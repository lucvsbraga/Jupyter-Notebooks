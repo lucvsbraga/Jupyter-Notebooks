{
 "cells": [
  {
   "cell_type": "markdown",
   "id": "619220a6",
   "metadata": {},
   "source": [
    "<h1> NumPy</h1>\n",
    "<br>\n",
    "<h2> Vetorização </h2>\n",
    "<br>\n",
    "Embora possamos usar list comprehension em arrays numpy, este pode não ser o melhor método e a maneira mais eficiente de se obter o mesmo resultado, seria através de vetorização. Vetorização nos permite aplicar uma função a um array inteiro, ao invés de aplicar a função a elemento a elemento(similar ao que fazemos com as funções map() e filter()).\n",
    "\n",
    "Ao trabalhar com objetos NumPy e Pandas, existem maneiras mais eficientes de se aplicar uma função a um conjunto de elementos, que serão mais velozes que a aplicação de loops for."
   ]
  },
  {
   "cell_type": "code",
   "execution_count": 2,
   "id": "a5c6b508",
   "metadata": {},
   "outputs": [],
   "source": [
    "import numpy as np"
   ]
  },
  {
   "cell_type": "code",
   "execution_count": 3,
   "id": "7022ab99",
   "metadata": {},
   "outputs": [],
   "source": [
    "array1 = np.random.randint(0, 50, 20)"
   ]
  },
  {
   "cell_type": "code",
   "execution_count": 5,
   "id": "403f025f",
   "metadata": {},
   "outputs": [
    {
     "data": {
      "text/plain": [
       "array([27, 10, 25, 39, 35,  7, 47, 45, 40, 39, 12, 17, 43, 35, 30, 32,  5,\n",
       "       23, 21,  9])"
      ]
     },
     "execution_count": 5,
     "metadata": {},
     "output_type": "execute_result"
    }
   ],
   "source": [
    "array1"
   ]
  },
  {
   "cell_type": "code",
   "execution_count": 6,
   "id": "7eb67cd0",
   "metadata": {},
   "outputs": [],
   "source": [
    "# Criando uma função\n",
    "def calc_func(num):\n",
    "    if num < 10:\n",
    "        return num ** 3\n",
    "    else:\n",
    "        return num ** 2"
   ]
  },
  {
   "cell_type": "code",
   "execution_count": 7,
   "id": "5e3371c8",
   "metadata": {},
   "outputs": [
    {
     "ename": "ValueError",
     "evalue": "The truth value of an array with more than one element is ambiguous. Use a.any() or a.all()",
     "output_type": "error",
     "traceback": [
      "\u001b[1;31m---------------------------------------------------------------------------\u001b[0m",
      "\u001b[1;31mValueError\u001b[0m                                Traceback (most recent call last)",
      "\u001b[1;32m~\\AppData\\Local\\Temp/ipykernel_8188/3052537854.py\u001b[0m in \u001b[0;36m<module>\u001b[1;34m\u001b[0m\n\u001b[0;32m      1\u001b[0m \u001b[1;31m# Para que a função funcione no objeto array do NumPy, ela precisa ser vetorizada\u001b[0m\u001b[1;33m\u001b[0m\u001b[1;33m\u001b[0m\u001b[0m\n\u001b[1;32m----> 2\u001b[1;33m \u001b[0mcalc_func\u001b[0m\u001b[1;33m(\u001b[0m\u001b[0marray1\u001b[0m\u001b[1;33m)\u001b[0m\u001b[1;33m\u001b[0m\u001b[1;33m\u001b[0m\u001b[0m\n\u001b[0m",
      "\u001b[1;32m~\\AppData\\Local\\Temp/ipykernel_8188/599280021.py\u001b[0m in \u001b[0;36mcalc_func\u001b[1;34m(num)\u001b[0m\n\u001b[0;32m      1\u001b[0m \u001b[1;31m# Criando uma função\u001b[0m\u001b[1;33m\u001b[0m\u001b[1;33m\u001b[0m\u001b[0m\n\u001b[0;32m      2\u001b[0m \u001b[1;32mdef\u001b[0m \u001b[0mcalc_func\u001b[0m\u001b[1;33m(\u001b[0m\u001b[0mnum\u001b[0m\u001b[1;33m)\u001b[0m\u001b[1;33m:\u001b[0m\u001b[1;33m\u001b[0m\u001b[1;33m\u001b[0m\u001b[0m\n\u001b[1;32m----> 3\u001b[1;33m     \u001b[1;32mif\u001b[0m \u001b[0mnum\u001b[0m \u001b[1;33m<\u001b[0m \u001b[1;36m10\u001b[0m\u001b[1;33m:\u001b[0m\u001b[1;33m\u001b[0m\u001b[1;33m\u001b[0m\u001b[0m\n\u001b[0m\u001b[0;32m      4\u001b[0m         \u001b[1;32mreturn\u001b[0m \u001b[0mnum\u001b[0m \u001b[1;33m**\u001b[0m \u001b[1;36m3\u001b[0m\u001b[1;33m\u001b[0m\u001b[1;33m\u001b[0m\u001b[0m\n\u001b[0;32m      5\u001b[0m     \u001b[1;32melse\u001b[0m\u001b[1;33m:\u001b[0m\u001b[1;33m\u001b[0m\u001b[1;33m\u001b[0m\u001b[0m\n",
      "\u001b[1;31mValueError\u001b[0m: The truth value of an array with more than one element is ambiguous. Use a.any() or a.all()"
     ]
    }
   ],
   "source": [
    "# Para que a função funcione no objeto array do NumPy, ela precisa ser vetorizada\n",
    "calc_func(array1)"
   ]
  },
  {
   "cell_type": "code",
   "execution_count": 8,
   "id": "cd7a6064",
   "metadata": {},
   "outputs": [],
   "source": [
    "# Vetorizando a função\n",
    "v_calc_func = np.vectorize(calc_func)"
   ]
  },
  {
   "cell_type": "code",
   "execution_count": 9,
   "id": "0f5d9b68",
   "metadata": {},
   "outputs": [
    {
     "data": {
      "text/plain": [
       "numpy.vectorize"
      ]
     },
     "execution_count": 9,
     "metadata": {},
     "output_type": "execute_result"
    }
   ],
   "source": [
    "type(v_calc_func)"
   ]
  },
  {
   "cell_type": "code",
   "execution_count": 11,
   "id": "7eafc2e4",
   "metadata": {},
   "outputs": [
    {
     "data": {
      "text/plain": [
       "array([ 729,  100,  625, 1521, 1225,  343, 2209, 2025, 1600, 1521,  144,\n",
       "        289, 1849, 1225,  900, 1024,  125,  529,  441,  729])"
      ]
     },
     "execution_count": 11,
     "metadata": {},
     "output_type": "execute_result"
    }
   ],
   "source": [
    "# Aplicando a função vetorizada ao array NumPy\n",
    "v_calc_func(array1)"
   ]
  },
  {
   "cell_type": "code",
   "execution_count": 12,
   "id": "beb9a0a7",
   "metadata": {},
   "outputs": [
    {
     "data": {
      "text/plain": [
       "[729,\n",
       " 100,\n",
       " 625,\n",
       " 1521,\n",
       " 1225,\n",
       " 343,\n",
       " 2209,\n",
       " 2025,\n",
       " 1600,\n",
       " 1521,\n",
       " 144,\n",
       " 289,\n",
       " 1849,\n",
       " 1225,\n",
       " 900,\n",
       " 1024,\n",
       " 125,\n",
       " 529,\n",
       " 441,\n",
       " 729]"
      ]
     },
     "execution_count": 12,
     "metadata": {},
     "output_type": "execute_result"
    }
   ],
   "source": [
    "list(map(calc_func, array1))"
   ]
  },
  {
   "cell_type": "code",
   "execution_count": 13,
   "id": "dec82023",
   "metadata": {},
   "outputs": [
    {
     "data": {
      "text/plain": [
       "[729,\n",
       " 100,\n",
       " 625,\n",
       " 1521,\n",
       " 1225,\n",
       " 343,\n",
       " 2209,\n",
       " 2025,\n",
       " 1600,\n",
       " 1521,\n",
       " 144,\n",
       " 289,\n",
       " 1849,\n",
       " 1225,\n",
       " 900,\n",
       " 1024,\n",
       " 125,\n",
       " 529,\n",
       " 441,\n",
       " 729]"
      ]
     },
     "execution_count": 13,
     "metadata": {},
     "output_type": "execute_result"
    }
   ],
   "source": [
    "# Podemos usar list comprehension para obter o mesmo resultado, sem vetorizar a função\n",
    "[calc_func(x) for x in array1]"
   ]
  }
 ],
 "metadata": {
  "kernelspec": {
   "display_name": "Python 3 (ipykernel)",
   "language": "python",
   "name": "python3"
  },
  "language_info": {
   "codemirror_mode": {
    "name": "ipython",
    "version": 3
   },
   "file_extension": ".py",
   "mimetype": "text/x-python",
   "name": "python",
   "nbconvert_exporter": "python",
   "pygments_lexer": "ipython3",
   "version": "3.9.7"
  }
 },
 "nbformat": 4,
 "nbformat_minor": 5
}
