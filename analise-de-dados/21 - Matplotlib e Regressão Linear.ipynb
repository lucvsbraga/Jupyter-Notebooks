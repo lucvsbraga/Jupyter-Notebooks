{
 "cells": [
  {
   "cell_type": "markdown",
   "id": "d956ecab",
   "metadata": {},
   "source": [
    "<h1>Matplotlib e Regressão Linear"
   ]
  },
  {
   "cell_type": "code",
   "execution_count": 1,
   "id": "545d95ca",
   "metadata": {},
   "outputs": [],
   "source": [
    "from scipy import stats\n",
    "import numpy as np\n",
    "from matplotlib import pyplot as plt"
   ]
  },
  {
   "cell_type": "code",
   "execution_count": 2,
   "id": "cf1ec135",
   "metadata": {},
   "outputs": [],
   "source": [
    "# Preços de casas\n",
    "x = np.array([113, 347, 199, 371, 549, 301, 419, 579])"
   ]
  },
  {
   "cell_type": "code",
   "execution_count": 3,
   "id": "bec1680d",
   "metadata": {},
   "outputs": [],
   "source": [
    "# Tamanho de Casas\n",
    "y = np.array([1119, 1524, 2101, 2232, 2599, 3201, 3687, 4459])"
   ]
  },
  {
   "cell_type": "code",
   "execution_count": 4,
   "id": "dd1f68fa",
   "metadata": {},
   "outputs": [],
   "source": [
    "slope, intercept, r_value, p_value, std_err = stats.linregress(x, y)"
   ]
  },
  {
   "cell_type": "code",
   "execution_count": 10,
   "id": "1ae2d771",
   "metadata": {},
   "outputs": [
    {
     "name": "stderr",
     "output_type": "stream",
     "text": [
      "C:\\Users\\Lucas\\AppData\\Local\\Temp\\ipykernel_8120\\3367078198.py:1: UserWarning: color is redundantly defined by the 'color' keyword argument and the fmt string \"ro\" (-> color='r'). The keyword argument will take precedence.\n",
      "  plt.plot(x,y, 'ro', color = 'r')\n"
     ]
    },
    {
     "data": {
      "text/plain": [
       "[<matplotlib.lines.Line2D at 0x1f431c5c130>]"
      ]
     },
     "execution_count": 10,
     "metadata": {},
     "output_type": "execute_result"
    },
    {
     "data": {
      "image/png": "[encoded data removed]",
      "text/plain": [
       "<Figure size 432x288 with 1 Axes>"
      ]
     },
     "metadata": {
      "needs_background": "light"
     },
     "output_type": "display_data"
    }
   ],
   "source": [
    "plt.plot(x,y, 'ro', color = 'r')\n",
    "plt.ylabel('Preço')\n",
    "plt.xlabel('Tamanho da Casa')\n",
    "plt.axis([0, 600, 0, 5000])\n",
    "plt.plot(x, x * slope + intercept, 'b')"
   ]
  }
 ],
 "metadata": {
  "kernelspec": {
   "display_name": "Python 3 (ipykernel)",
   "language": "python",
   "name": "python3"
  },
  "language_info": {
   "codemirror_mode": {
    "name": "ipython",
    "version": 3
   },
   "file_extension": ".py",
   "mimetype": "text/x-python",
   "name": "python",
   "nbconvert_exporter": "python",
   "pygments_lexer": "ipython3",
   "version": "3.9.7"
  }
 },
 "nbformat": 4,
 "nbformat_minor": 5
}
