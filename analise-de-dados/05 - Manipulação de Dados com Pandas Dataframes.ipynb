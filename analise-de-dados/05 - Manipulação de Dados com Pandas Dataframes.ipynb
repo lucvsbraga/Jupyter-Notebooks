{
 "cells": [
  {
   "cell_type": "markdown",
   "id": "79daa141",
   "metadata": {},
   "source": [
    "<h1> Estrutura de Dados em Pandas </h1>\n",
    "<br>\n",
    "<br>\n",
    "panda.Series() - 1 Dimensão - 1D\n",
    "<br>\n",
    "pandas.DataFrame() - 2 Dimensões - 2D\n",
    "<br>\n",
    "pandas.Panel() - 3 Dimensões - 3D\n",
    "<br>\n",
    "numpy.ndarray() - n Dimensões"
   ]
  },
  {
   "cell_type": "markdown",
   "id": "f068b1ae",
   "metadata": {},
   "source": [
    "<h2>Dataframes</h2>"
   ]
  },
  {
   "cell_type": "code",
   "execution_count": 1,
   "id": "0e544d02",
   "metadata": {},
   "outputs": [],
   "source": [
    "import pandas as pd\n",
    "import numpy as np"
   ]
  },
  {
   "cell_type": "code",
   "execution_count": 2,
   "id": "d16d97fc",
   "metadata": {},
   "outputs": [],
   "source": [
    "stock = {'AMZN': pd.Series([346.15,0.59,459,0.52,589.8,158.88],\n",
    "                           index = ['Closing price','EPS','Shares Outstanding(M)', \n",
    "                                  'Beta', 'P/E','Market Cap(B)']),\n",
    "         'GOOG': pd.Series([1133.43,36.05,335.83,0.87,31.44,380.64],\n",
    "                            index = ['Closing price','EPS','Shares Outstanding(M)',\n",
    "                                  'Beta','P/E','Market Cap(B)']),\n",
    "         'FB': pd.Series([61.48,0.59,2450,104.93,150.92],\n",
    "                            index = ['Closing price','EPS','Shares Outstanding(M)',\n",
    "                                  'P/E', 'Market Cap(B)']),\n",
    "         'YHOO': pd.Series([34.90,1.27,1010,27.48,0.66,35.36],\n",
    "                            index=['Closing price','EPS','Shares Outstanding(M)',\n",
    "                                  'P/E','Beta', 'Market Cap(B)']),\n",
    "         'TWTR':pd.Series([65.25,-0.3,555.2,36.23],\n",
    "                            index=['Closing price','EPS','Shares Outstanding(M)',\n",
    "                                  'Market Cap(B)']),\n",
    "         'AAPL':pd.Series([501.53,40.32,892.45,12.44,447.59,0.84],\n",
    "                            index=['Closing price','EPS','Shares Outstanding(M)','P/E',\n",
    "                                  'Market Cap(B)','Beta'])}"
   ]
  },
  {
   "cell_type": "code",
   "execution_count": 3,
   "id": "5fbc26e6",
   "metadata": {},
   "outputs": [],
   "source": [
    "stock_df = pd.DataFrame(stock)"
   ]
  },
  {
   "cell_type": "code",
   "execution_count": 4,
   "id": "730bd199",
   "metadata": {},
   "outputs": [
    {
     "data": {
      "text/html": [
       "<div>\n",
       "<style scoped>\n",
       "    .dataframe tbody tr th:only-of-type {\n",
       "        vertical-align: middle;\n",
       "    }\n",
       "\n",
       "    .dataframe tbody tr th {\n",
       "        vertical-align: top;\n",
       "    }\n",
       "\n",
       "    .dataframe thead th {\n",
       "        text-align: right;\n",
       "    }\n",
       "</style>\n",
       "<table border=\"1\" class=\"dataframe\">\n",
       "  <thead>\n",
       "    <tr style=\"text-align: right;\">\n",
       "      <th></th>\n",
       "      <th>AMZN</th>\n",
       "      <th>GOOG</th>\n",
       "      <th>FB</th>\n",
       "      <th>YHOO</th>\n",
       "      <th>TWTR</th>\n",
       "      <th>AAPL</th>\n",
       "    </tr>\n",
       "  </thead>\n",
       "  <tbody>\n",
       "    <tr>\n",
       "      <th>Beta</th>\n",
       "      <td>0.52</td>\n",
       "      <td>0.87</td>\n",
       "      <td>NaN</td>\n",
       "      <td>0.66</td>\n",
       "      <td>NaN</td>\n",
       "      <td>0.84</td>\n",
       "    </tr>\n",
       "    <tr>\n",
       "      <th>Closing price</th>\n",
       "      <td>346.15</td>\n",
       "      <td>1133.43</td>\n",
       "      <td>61.48</td>\n",
       "      <td>34.90</td>\n",
       "      <td>65.25</td>\n",
       "      <td>501.53</td>\n",
       "    </tr>\n",
       "    <tr>\n",
       "      <th>EPS</th>\n",
       "      <td>0.59</td>\n",
       "      <td>36.05</td>\n",
       "      <td>0.59</td>\n",
       "      <td>1.27</td>\n",
       "      <td>-0.30</td>\n",
       "      <td>40.32</td>\n",
       "    </tr>\n",
       "    <tr>\n",
       "      <th>Market Cap(B)</th>\n",
       "      <td>158.88</td>\n",
       "      <td>380.64</td>\n",
       "      <td>150.92</td>\n",
       "      <td>35.36</td>\n",
       "      <td>36.23</td>\n",
       "      <td>447.59</td>\n",
       "    </tr>\n",
       "    <tr>\n",
       "      <th>P/E</th>\n",
       "      <td>589.80</td>\n",
       "      <td>31.44</td>\n",
       "      <td>104.93</td>\n",
       "      <td>27.48</td>\n",
       "      <td>NaN</td>\n",
       "      <td>12.44</td>\n",
       "    </tr>\n",
       "    <tr>\n",
       "      <th>Shares Outstanding(M)</th>\n",
       "      <td>459.00</td>\n",
       "      <td>335.83</td>\n",
       "      <td>2450.00</td>\n",
       "      <td>1010.00</td>\n",
       "      <td>555.20</td>\n",
       "      <td>892.45</td>\n",
       "    </tr>\n",
       "  </tbody>\n",
       "</table>\n",
       "</div>"
      ],
      "text/plain": [
       "                         AMZN     GOOG       FB     YHOO    TWTR    AAPL\n",
       "Beta                     0.52     0.87      NaN     0.66     NaN    0.84\n",
       "Closing price          346.15  1133.43    61.48    34.90   65.25  501.53\n",
       "EPS                      0.59    36.05     0.59     1.27   -0.30   40.32\n",
       "Market Cap(B)          158.88   380.64   150.92    35.36   36.23  447.59\n",
       "P/E                    589.80    31.44   104.93    27.48     NaN   12.44\n",
       "Shares Outstanding(M)  459.00   335.83  2450.00  1010.00  555.20  892.45"
      ]
     },
     "execution_count": 4,
     "metadata": {},
     "output_type": "execute_result"
    }
   ],
   "source": [
    "stock_df"
   ]
  },
  {
   "cell_type": "code",
   "execution_count": 6,
   "id": "0da12eec",
   "metadata": {},
   "outputs": [],
   "source": [
    "stock_df = pd.DataFrame(stock,\n",
    "                       index = ['Closing price',\n",
    "                               'EPS',\n",
    "                               'Shares Outstanding(M)',\n",
    "                               'P/E',\n",
    "                               'Market Cap(B)',\n",
    "                               'Beta'])"
   ]
  },
  {
   "cell_type": "code",
   "execution_count": 7,
   "id": "0122b25b",
   "metadata": {},
   "outputs": [
    {
     "data": {
      "text/html": [
       "<div>\n",
       "<style scoped>\n",
       "    .dataframe tbody tr th:only-of-type {\n",
       "        vertical-align: middle;\n",
       "    }\n",
       "\n",
       "    .dataframe tbody tr th {\n",
       "        vertical-align: top;\n",
       "    }\n",
       "\n",
       "    .dataframe thead th {\n",
       "        text-align: right;\n",
       "    }\n",
       "</style>\n",
       "<table border=\"1\" class=\"dataframe\">\n",
       "  <thead>\n",
       "    <tr style=\"text-align: right;\">\n",
       "      <th></th>\n",
       "      <th>AMZN</th>\n",
       "      <th>GOOG</th>\n",
       "      <th>FB</th>\n",
       "      <th>YHOO</th>\n",
       "      <th>TWTR</th>\n",
       "      <th>AAPL</th>\n",
       "    </tr>\n",
       "  </thead>\n",
       "  <tbody>\n",
       "    <tr>\n",
       "      <th>Closing price</th>\n",
       "      <td>346.15</td>\n",
       "      <td>1133.43</td>\n",
       "      <td>61.48</td>\n",
       "      <td>34.90</td>\n",
       "      <td>65.25</td>\n",
       "      <td>501.53</td>\n",
       "    </tr>\n",
       "    <tr>\n",
       "      <th>EPS</th>\n",
       "      <td>0.59</td>\n",
       "      <td>36.05</td>\n",
       "      <td>0.59</td>\n",
       "      <td>1.27</td>\n",
       "      <td>-0.30</td>\n",
       "      <td>40.32</td>\n",
       "    </tr>\n",
       "    <tr>\n",
       "      <th>Shares Outstanding(M)</th>\n",
       "      <td>459.00</td>\n",
       "      <td>335.83</td>\n",
       "      <td>2450.00</td>\n",
       "      <td>1010.00</td>\n",
       "      <td>555.20</td>\n",
       "      <td>892.45</td>\n",
       "    </tr>\n",
       "    <tr>\n",
       "      <th>P/E</th>\n",
       "      <td>589.80</td>\n",
       "      <td>31.44</td>\n",
       "      <td>104.93</td>\n",
       "      <td>27.48</td>\n",
       "      <td>NaN</td>\n",
       "      <td>12.44</td>\n",
       "    </tr>\n",
       "    <tr>\n",
       "      <th>Market Cap(B)</th>\n",
       "      <td>158.88</td>\n",
       "      <td>380.64</td>\n",
       "      <td>150.92</td>\n",
       "      <td>35.36</td>\n",
       "      <td>36.23</td>\n",
       "      <td>447.59</td>\n",
       "    </tr>\n",
       "    <tr>\n",
       "      <th>Beta</th>\n",
       "      <td>0.52</td>\n",
       "      <td>0.87</td>\n",
       "      <td>NaN</td>\n",
       "      <td>0.66</td>\n",
       "      <td>NaN</td>\n",
       "      <td>0.84</td>\n",
       "    </tr>\n",
       "  </tbody>\n",
       "</table>\n",
       "</div>"
      ],
      "text/plain": [
       "                         AMZN     GOOG       FB     YHOO    TWTR    AAPL\n",
       "Closing price          346.15  1133.43    61.48    34.90   65.25  501.53\n",
       "EPS                      0.59    36.05     0.59     1.27   -0.30   40.32\n",
       "Shares Outstanding(M)  459.00   335.83  2450.00  1010.00  555.20  892.45\n",
       "P/E                    589.80    31.44   104.93    27.48     NaN   12.44\n",
       "Market Cap(B)          158.88   380.64   150.92    35.36   36.23  447.59\n",
       "Beta                     0.52     0.87      NaN     0.66     NaN    0.84"
      ]
     },
     "execution_count": 7,
     "metadata": {},
     "output_type": "execute_result"
    }
   ],
   "source": [
    "stock_df"
   ]
  },
  {
   "cell_type": "code",
   "execution_count": 8,
   "id": "054ba4bf",
   "metadata": {},
   "outputs": [],
   "source": [
    "stock_df = pd.DataFrame(stock, \n",
    "                       index = ['Closing price',\n",
    "                               'EPS',\n",
    "                               'Shares Outstanding(M)',\n",
    "                               'P/E',\n",
    "                               'Market Cap(B)',\n",
    "                               'Beta'],\n",
    "                       columns = ['FB', 'TWTR', 'SCNW'])"
   ]
  },
  {
   "cell_type": "code",
   "execution_count": 9,
   "id": "720b1bb2",
   "metadata": {},
   "outputs": [
    {
     "data": {
      "text/html": [
       "<div>\n",
       "<style scoped>\n",
       "    .dataframe tbody tr th:only-of-type {\n",
       "        vertical-align: middle;\n",
       "    }\n",
       "\n",
       "    .dataframe tbody tr th {\n",
       "        vertical-align: top;\n",
       "    }\n",
       "\n",
       "    .dataframe thead th {\n",
       "        text-align: right;\n",
       "    }\n",
       "</style>\n",
       "<table border=\"1\" class=\"dataframe\">\n",
       "  <thead>\n",
       "    <tr style=\"text-align: right;\">\n",
       "      <th></th>\n",
       "      <th>FB</th>\n",
       "      <th>TWTR</th>\n",
       "      <th>SCNW</th>\n",
       "    </tr>\n",
       "  </thead>\n",
       "  <tbody>\n",
       "    <tr>\n",
       "      <th>Closing price</th>\n",
       "      <td>61.48</td>\n",
       "      <td>65.25</td>\n",
       "      <td>NaN</td>\n",
       "    </tr>\n",
       "    <tr>\n",
       "      <th>EPS</th>\n",
       "      <td>0.59</td>\n",
       "      <td>-0.30</td>\n",
       "      <td>NaN</td>\n",
       "    </tr>\n",
       "    <tr>\n",
       "      <th>Shares Outstanding(M)</th>\n",
       "      <td>2450.00</td>\n",
       "      <td>555.20</td>\n",
       "      <td>NaN</td>\n",
       "    </tr>\n",
       "    <tr>\n",
       "      <th>P/E</th>\n",
       "      <td>104.93</td>\n",
       "      <td>NaN</td>\n",
       "      <td>NaN</td>\n",
       "    </tr>\n",
       "    <tr>\n",
       "      <th>Market Cap(B)</th>\n",
       "      <td>150.92</td>\n",
       "      <td>36.23</td>\n",
       "      <td>NaN</td>\n",
       "    </tr>\n",
       "    <tr>\n",
       "      <th>Beta</th>\n",
       "      <td>NaN</td>\n",
       "      <td>NaN</td>\n",
       "      <td>NaN</td>\n",
       "    </tr>\n",
       "  </tbody>\n",
       "</table>\n",
       "</div>"
      ],
      "text/plain": [
       "                            FB    TWTR SCNW\n",
       "Closing price            61.48   65.25  NaN\n",
       "EPS                       0.59   -0.30  NaN\n",
       "Shares Outstanding(M)  2450.00  555.20  NaN\n",
       "P/E                     104.93     NaN  NaN\n",
       "Market Cap(B)           150.92   36.23  NaN\n",
       "Beta                       NaN     NaN  NaN"
      ]
     },
     "execution_count": 9,
     "metadata": {},
     "output_type": "execute_result"
    }
   ],
   "source": [
    "stock_df"
   ]
  },
  {
   "cell_type": "code",
   "execution_count": 10,
   "id": "a3bee74a",
   "metadata": {},
   "outputs": [
    {
     "data": {
      "text/plain": [
       "Index(['Closing price', 'EPS', 'Shares Outstanding(M)', 'P/E', 'Market Cap(B)',\n",
       "       'Beta'],\n",
       "      dtype='object')"
      ]
     },
     "execution_count": 10,
     "metadata": {},
     "output_type": "execute_result"
    }
   ],
   "source": [
    "stock_df.index"
   ]
  },
  {
   "cell_type": "code",
   "execution_count": 11,
   "id": "582309c6",
   "metadata": {},
   "outputs": [
    {
     "data": {
      "text/plain": [
       "Index(['FB', 'TWTR', 'SCNW'], dtype='object')"
      ]
     },
     "execution_count": 11,
     "metadata": {},
     "output_type": "execute_result"
    }
   ],
   "source": [
    "stock_df.columns"
   ]
  },
  {
   "cell_type": "markdown",
   "id": "343b70ea",
   "metadata": {},
   "source": [
    "<h2> Operações com DataFrames </h2>"
   ]
  },
  {
   "cell_type": "code",
   "execution_count": 12,
   "id": "6285f442",
   "metadata": {},
   "outputs": [],
   "source": [
    "Quadro_Medalhas_Rio_2016 = {\n",
    "    'USA' : {'Ouro':46, 'Prata':37, 'Bronze':38},\n",
    "    'China':{'Ouro':26, 'Prata':18, 'Bronze':26},\n",
    "    'Britain':{'Ouro':27, 'Prata':23, 'Bronze':17},\n",
    "    'Russe':{'Ouro':19, 'Prata':18, 'Bronze':19},\n",
    "    'Germany':{'Ouro':17, 'Prata':10, 'Bronze':15}}"
   ]
  },
  {
   "cell_type": "code",
   "execution_count": 13,
   "id": "12003f3a",
   "metadata": {},
   "outputs": [],
   "source": [
    "Rio_2016 = pd.DataFrame.from_dict(Quadro_Medalhas_Rio_2016)"
   ]
  },
  {
   "cell_type": "code",
   "execution_count": 14,
   "id": "0fa80ab5",
   "metadata": {},
   "outputs": [
    {
     "data": {
      "text/html": [
       "<div>\n",
       "<style scoped>\n",
       "    .dataframe tbody tr th:only-of-type {\n",
       "        vertical-align: middle;\n",
       "    }\n",
       "\n",
       "    .dataframe tbody tr th {\n",
       "        vertical-align: top;\n",
       "    }\n",
       "\n",
       "    .dataframe thead th {\n",
       "        text-align: right;\n",
       "    }\n",
       "</style>\n",
       "<table border=\"1\" class=\"dataframe\">\n",
       "  <thead>\n",
       "    <tr style=\"text-align: right;\">\n",
       "      <th></th>\n",
       "      <th>USA</th>\n",
       "      <th>China</th>\n",
       "      <th>Britain</th>\n",
       "      <th>Russe</th>\n",
       "      <th>Germany</th>\n",
       "    </tr>\n",
       "  </thead>\n",
       "  <tbody>\n",
       "    <tr>\n",
       "      <th>Ouro</th>\n",
       "      <td>46</td>\n",
       "      <td>26</td>\n",
       "      <td>27</td>\n",
       "      <td>19</td>\n",
       "      <td>17</td>\n",
       "    </tr>\n",
       "    <tr>\n",
       "      <th>Prata</th>\n",
       "      <td>37</td>\n",
       "      <td>18</td>\n",
       "      <td>23</td>\n",
       "      <td>18</td>\n",
       "      <td>10</td>\n",
       "    </tr>\n",
       "    <tr>\n",
       "      <th>Bronze</th>\n",
       "      <td>38</td>\n",
       "      <td>26</td>\n",
       "      <td>17</td>\n",
       "      <td>19</td>\n",
       "      <td>15</td>\n",
       "    </tr>\n",
       "  </tbody>\n",
       "</table>\n",
       "</div>"
      ],
      "text/plain": [
       "        USA  China  Britain  Russe  Germany\n",
       "Ouro     46     26       27     19       17\n",
       "Prata    37     18       23     18       10\n",
       "Bronze   38     26       17     19       15"
      ]
     },
     "execution_count": 14,
     "metadata": {},
     "output_type": "execute_result"
    }
   ],
   "source": [
    "Rio_2016"
   ]
  },
  {
   "cell_type": "code",
   "execution_count": 15,
   "id": "39c0f578",
   "metadata": {},
   "outputs": [
    {
     "data": {
      "text/plain": [
       "Ouro      26\n",
       "Prata     18\n",
       "Bronze    26\n",
       "Name: China, dtype: int64"
      ]
     },
     "execution_count": 15,
     "metadata": {},
     "output_type": "execute_result"
    }
   ],
   "source": [
    "Rio_2016['China']"
   ]
  },
  {
   "cell_type": "code",
   "execution_count": 16,
   "id": "22258d8c",
   "metadata": {},
   "outputs": [
    {
     "data": {
      "text/plain": [
       "Ouro      19\n",
       "Prata     18\n",
       "Bronze    19\n",
       "Name: Russe, dtype: int64"
      ]
     },
     "execution_count": 16,
     "metadata": {},
     "output_type": "execute_result"
    }
   ],
   "source": [
    "Rio_2016.Russe"
   ]
  },
  {
   "cell_type": "code",
   "execution_count": 17,
   "id": "2a53e05a",
   "metadata": {},
   "outputs": [
    {
     "data": {
      "text/html": [
       "<div>\n",
       "<style scoped>\n",
       "    .dataframe tbody tr th:only-of-type {\n",
       "        vertical-align: middle;\n",
       "    }\n",
       "\n",
       "    .dataframe tbody tr th {\n",
       "        vertical-align: top;\n",
       "    }\n",
       "\n",
       "    .dataframe thead th {\n",
       "        text-align: right;\n",
       "    }\n",
       "</style>\n",
       "<table border=\"1\" class=\"dataframe\">\n",
       "  <thead>\n",
       "    <tr style=\"text-align: right;\">\n",
       "      <th></th>\n",
       "      <th>Russe</th>\n",
       "      <th>Germany</th>\n",
       "    </tr>\n",
       "  </thead>\n",
       "  <tbody>\n",
       "    <tr>\n",
       "      <th>Ouro</th>\n",
       "      <td>19</td>\n",
       "      <td>17</td>\n",
       "    </tr>\n",
       "    <tr>\n",
       "      <th>Prata</th>\n",
       "      <td>18</td>\n",
       "      <td>10</td>\n",
       "    </tr>\n",
       "    <tr>\n",
       "      <th>Bronze</th>\n",
       "      <td>19</td>\n",
       "      <td>15</td>\n",
       "    </tr>\n",
       "  </tbody>\n",
       "</table>\n",
       "</div>"
      ],
      "text/plain": [
       "        Russe  Germany\n",
       "Ouro       19       17\n",
       "Prata      18       10\n",
       "Bronze     19       15"
      ]
     },
     "execution_count": 17,
     "metadata": {},
     "output_type": "execute_result"
    }
   ],
   "source": [
    "Rio_2016[['Russe', 'Germany']]"
   ]
  },
  {
   "cell_type": "code",
   "execution_count": 18,
   "id": "74695b98",
   "metadata": {},
   "outputs": [
    {
     "data": {
      "text/plain": [
       "Ouro      17\n",
       "Prata     10\n",
       "Bronze    15\n",
       "Name: Germany, dtype: int64"
      ]
     },
     "execution_count": 18,
     "metadata": {},
     "output_type": "execute_result"
    }
   ],
   "source": [
    "Rio_2016.get('Germany')"
   ]
  },
  {
   "cell_type": "markdown",
   "id": "1aab90ca",
   "metadata": {},
   "source": [
    "<h2> Slicing </h2>"
   ]
  },
  {
   "cell_type": "code",
   "execution_count": 24,
   "id": "a1c47ee6",
   "metadata": {},
   "outputs": [
    {
     "data": {
      "text/html": [
       "<div>\n",
       "<style scoped>\n",
       "    .dataframe tbody tr th:only-of-type {\n",
       "        vertical-align: middle;\n",
       "    }\n",
       "\n",
       "    .dataframe tbody tr th {\n",
       "        vertical-align: top;\n",
       "    }\n",
       "\n",
       "    .dataframe thead th {\n",
       "        text-align: right;\n",
       "    }\n",
       "</style>\n",
       "<table border=\"1\" class=\"dataframe\">\n",
       "  <thead>\n",
       "    <tr style=\"text-align: right;\">\n",
       "      <th></th>\n",
       "      <th>USA</th>\n",
       "      <th>China</th>\n",
       "      <th>Britain</th>\n",
       "      <th>Russe</th>\n",
       "      <th>Germany</th>\n",
       "    </tr>\n",
       "  </thead>\n",
       "  <tbody>\n",
       "    <tr>\n",
       "      <th>Ouro</th>\n",
       "      <td>46</td>\n",
       "      <td>26</td>\n",
       "      <td>27</td>\n",
       "      <td>19</td>\n",
       "      <td>17</td>\n",
       "    </tr>\n",
       "    <tr>\n",
       "      <th>Prata</th>\n",
       "      <td>37</td>\n",
       "      <td>18</td>\n",
       "      <td>23</td>\n",
       "      <td>18</td>\n",
       "      <td>10</td>\n",
       "    </tr>\n",
       "  </tbody>\n",
       "</table>\n",
       "</div>"
      ],
      "text/plain": [
       "       USA  China  Britain  Russe  Germany\n",
       "Ouro    46     26       27     19       17\n",
       "Prata   37     18       23     18       10"
      ]
     },
     "execution_count": 24,
     "metadata": {},
     "output_type": "execute_result"
    }
   ],
   "source": [
    "Rio_2016[:2]"
   ]
  },
  {
   "cell_type": "code",
   "execution_count": 26,
   "id": "8df820b6",
   "metadata": {},
   "outputs": [
    {
     "data": {
      "text/html": [
       "<div>\n",
       "<style scoped>\n",
       "    .dataframe tbody tr th:only-of-type {\n",
       "        vertical-align: middle;\n",
       "    }\n",
       "\n",
       "    .dataframe tbody tr th {\n",
       "        vertical-align: top;\n",
       "    }\n",
       "\n",
       "    .dataframe thead th {\n",
       "        text-align: right;\n",
       "    }\n",
       "</style>\n",
       "<table border=\"1\" class=\"dataframe\">\n",
       "  <thead>\n",
       "    <tr style=\"text-align: right;\">\n",
       "      <th></th>\n",
       "      <th>USA</th>\n",
       "      <th>China</th>\n",
       "      <th>Britain</th>\n",
       "      <th>Russe</th>\n",
       "      <th>Germany</th>\n",
       "    </tr>\n",
       "  </thead>\n",
       "  <tbody>\n",
       "    <tr>\n",
       "      <th>Bronze</th>\n",
       "      <td>38</td>\n",
       "      <td>26</td>\n",
       "      <td>17</td>\n",
       "      <td>19</td>\n",
       "      <td>15</td>\n",
       "    </tr>\n",
       "  </tbody>\n",
       "</table>\n",
       "</div>"
      ],
      "text/plain": [
       "        USA  China  Britain  Russe  Germany\n",
       "Bronze   38     26       17     19       15"
      ]
     },
     "execution_count": 26,
     "metadata": {},
     "output_type": "execute_result"
    }
   ],
   "source": [
    "Rio_2016[2:]"
   ]
  },
  {
   "cell_type": "code",
   "execution_count": 27,
   "id": "f49abe01",
   "metadata": {},
   "outputs": [
    {
     "data": {
      "text/html": [
       "<div>\n",
       "<style scoped>\n",
       "    .dataframe tbody tr th:only-of-type {\n",
       "        vertical-align: middle;\n",
       "    }\n",
       "\n",
       "    .dataframe tbody tr th {\n",
       "        vertical-align: top;\n",
       "    }\n",
       "\n",
       "    .dataframe thead th {\n",
       "        text-align: right;\n",
       "    }\n",
       "</style>\n",
       "<table border=\"1\" class=\"dataframe\">\n",
       "  <thead>\n",
       "    <tr style=\"text-align: right;\">\n",
       "      <th></th>\n",
       "      <th>USA</th>\n",
       "      <th>China</th>\n",
       "      <th>Britain</th>\n",
       "      <th>Russe</th>\n",
       "      <th>Germany</th>\n",
       "    </tr>\n",
       "  </thead>\n",
       "  <tbody>\n",
       "    <tr>\n",
       "      <th>Ouro</th>\n",
       "      <td>46</td>\n",
       "      <td>26</td>\n",
       "      <td>27</td>\n",
       "      <td>19</td>\n",
       "      <td>17</td>\n",
       "    </tr>\n",
       "    <tr>\n",
       "      <th>Bronze</th>\n",
       "      <td>38</td>\n",
       "      <td>26</td>\n",
       "      <td>17</td>\n",
       "      <td>19</td>\n",
       "      <td>15</td>\n",
       "    </tr>\n",
       "  </tbody>\n",
       "</table>\n",
       "</div>"
      ],
      "text/plain": [
       "        USA  China  Britain  Russe  Germany\n",
       "Ouro     46     26       27     19       17\n",
       "Bronze   38     26       17     19       15"
      ]
     },
     "execution_count": 27,
     "metadata": {},
     "output_type": "execute_result"
    }
   ],
   "source": [
    "Rio_2016[::2]"
   ]
  },
  {
   "cell_type": "code",
   "execution_count": 28,
   "id": "10f04978",
   "metadata": {},
   "outputs": [
    {
     "data": {
      "text/html": [
       "<div>\n",
       "<style scoped>\n",
       "    .dataframe tbody tr th:only-of-type {\n",
       "        vertical-align: middle;\n",
       "    }\n",
       "\n",
       "    .dataframe tbody tr th {\n",
       "        vertical-align: top;\n",
       "    }\n",
       "\n",
       "    .dataframe thead th {\n",
       "        text-align: right;\n",
       "    }\n",
       "</style>\n",
       "<table border=\"1\" class=\"dataframe\">\n",
       "  <thead>\n",
       "    <tr style=\"text-align: right;\">\n",
       "      <th></th>\n",
       "      <th>USA</th>\n",
       "      <th>China</th>\n",
       "      <th>Britain</th>\n",
       "      <th>Russe</th>\n",
       "      <th>Germany</th>\n",
       "    </tr>\n",
       "  </thead>\n",
       "  <tbody>\n",
       "    <tr>\n",
       "      <th>Bronze</th>\n",
       "      <td>38</td>\n",
       "      <td>26</td>\n",
       "      <td>17</td>\n",
       "      <td>19</td>\n",
       "      <td>15</td>\n",
       "    </tr>\n",
       "    <tr>\n",
       "      <th>Prata</th>\n",
       "      <td>37</td>\n",
       "      <td>18</td>\n",
       "      <td>23</td>\n",
       "      <td>18</td>\n",
       "      <td>10</td>\n",
       "    </tr>\n",
       "    <tr>\n",
       "      <th>Ouro</th>\n",
       "      <td>46</td>\n",
       "      <td>26</td>\n",
       "      <td>27</td>\n",
       "      <td>19</td>\n",
       "      <td>17</td>\n",
       "    </tr>\n",
       "  </tbody>\n",
       "</table>\n",
       "</div>"
      ],
      "text/plain": [
       "        USA  China  Britain  Russe  Germany\n",
       "Bronze   38     26       17     19       15\n",
       "Prata    37     18       23     18       10\n",
       "Ouro     46     26       27     19       17"
      ]
     },
     "execution_count": 28,
     "metadata": {},
     "output_type": "execute_result"
    }
   ],
   "source": [
    "Rio_2016[::-1]"
   ]
  },
  {
   "cell_type": "code",
   "execution_count": 29,
   "id": "767e5a53",
   "metadata": {},
   "outputs": [
    {
     "data": {
      "text/html": [
       "<div>\n",
       "<style scoped>\n",
       "    .dataframe tbody tr th:only-of-type {\n",
       "        vertical-align: middle;\n",
       "    }\n",
       "\n",
       "    .dataframe tbody tr th {\n",
       "        vertical-align: top;\n",
       "    }\n",
       "\n",
       "    .dataframe thead th {\n",
       "        text-align: right;\n",
       "    }\n",
       "</style>\n",
       "<table border=\"1\" class=\"dataframe\">\n",
       "  <thead>\n",
       "    <tr style=\"text-align: right;\">\n",
       "      <th></th>\n",
       "      <th>USA</th>\n",
       "      <th>China</th>\n",
       "      <th>Britain</th>\n",
       "      <th>Russe</th>\n",
       "      <th>Germany</th>\n",
       "    </tr>\n",
       "  </thead>\n",
       "  <tbody>\n",
       "    <tr>\n",
       "      <th>Ouro</th>\n",
       "      <td>46</td>\n",
       "      <td>26</td>\n",
       "      <td>27</td>\n",
       "      <td>19</td>\n",
       "      <td>17</td>\n",
       "    </tr>\n",
       "    <tr>\n",
       "      <th>Prata</th>\n",
       "      <td>37</td>\n",
       "      <td>18</td>\n",
       "      <td>23</td>\n",
       "      <td>18</td>\n",
       "      <td>10</td>\n",
       "    </tr>\n",
       "    <tr>\n",
       "      <th>Bronze</th>\n",
       "      <td>38</td>\n",
       "      <td>26</td>\n",
       "      <td>17</td>\n",
       "      <td>19</td>\n",
       "      <td>15</td>\n",
       "    </tr>\n",
       "  </tbody>\n",
       "</table>\n",
       "</div>"
      ],
      "text/plain": [
       "        USA  China  Britain  Russe  Germany\n",
       "Ouro     46     26       27     19       17\n",
       "Prata    37     18       23     18       10\n",
       "Bronze   38     26       17     19       15"
      ]
     },
     "execution_count": 29,
     "metadata": {},
     "output_type": "execute_result"
    }
   ],
   "source": [
    "Rio_2016"
   ]
  },
  {
   "cell_type": "markdown",
   "id": "3b10ee78",
   "metadata": {},
   "source": [
    "<h2> Slicing por indexação </h2>"
   ]
  },
  {
   "cell_type": "code",
   "execution_count": 30,
   "id": "cbccf4f1",
   "metadata": {},
   "outputs": [
    {
     "data": {
      "text/plain": [
       "USA        46\n",
       "China      26\n",
       "Britain    27\n",
       "Russe      19\n",
       "Germany    17\n",
       "Name: Ouro, dtype: int64"
      ]
     },
     "execution_count": 30,
     "metadata": {},
     "output_type": "execute_result"
    }
   ],
   "source": [
    "Rio_2016.loc['Ouro']"
   ]
  },
  {
   "cell_type": "code",
   "execution_count": 31,
   "id": "00fb722f",
   "metadata": {},
   "outputs": [
    {
     "data": {
      "text/plain": [
       "Ouro      46\n",
       "Prata     37\n",
       "Bronze    38\n",
       "Name: USA, dtype: int64"
      ]
     },
     "execution_count": 31,
     "metadata": {},
     "output_type": "execute_result"
    }
   ],
   "source": [
    "Rio_2016.loc[:,'USA']"
   ]
  },
  {
   "cell_type": "code",
   "execution_count": 32,
   "id": "0c7da952",
   "metadata": {},
   "outputs": [
    {
     "data": {
      "text/plain": [
       "18"
      ]
     },
     "execution_count": 32,
     "metadata": {},
     "output_type": "execute_result"
    }
   ],
   "source": [
    "Rio_2016.loc['Prata', 'China']"
   ]
  },
  {
   "cell_type": "code",
   "execution_count": 33,
   "id": "84296630",
   "metadata": {},
   "outputs": [
    {
     "data": {
      "text/plain": [
       "18"
      ]
     },
     "execution_count": 33,
     "metadata": {},
     "output_type": "execute_result"
    }
   ],
   "source": [
    "Rio_2016.loc['Prata']['China']"
   ]
  },
  {
   "cell_type": "code",
   "execution_count": 34,
   "id": "150565b6",
   "metadata": {},
   "outputs": [
    {
     "data": {
      "text/plain": [
       "USA        37\n",
       "China      18\n",
       "Britain    23\n",
       "Russe      18\n",
       "Germany    10\n",
       "Name: Prata, dtype: int64"
      ]
     },
     "execution_count": 34,
     "metadata": {},
     "output_type": "execute_result"
    }
   ],
   "source": [
    "Rio_2016.loc['Prata']"
   ]
  },
  {
   "cell_type": "code",
   "execution_count": 35,
   "id": "d2187ef0",
   "metadata": {},
   "outputs": [
    {
     "data": {
      "text/plain": [
       "USA         True\n",
       "China       True\n",
       "Britain     True\n",
       "Russe      False\n",
       "Germany    False\n",
       "Name: Ouro, dtype: bool"
      ]
     },
     "execution_count": 35,
     "metadata": {},
     "output_type": "execute_result"
    }
   ],
   "source": [
    "Rio_2016.loc['Ouro'] > 20"
   ]
  },
  {
   "cell_type": "code",
   "execution_count": 37,
   "id": "c1020484",
   "metadata": {},
   "outputs": [
    {
     "data": {
      "text/html": [
       "<div>\n",
       "<style scoped>\n",
       "    .dataframe tbody tr th:only-of-type {\n",
       "        vertical-align: middle;\n",
       "    }\n",
       "\n",
       "    .dataframe tbody tr th {\n",
       "        vertical-align: top;\n",
       "    }\n",
       "\n",
       "    .dataframe thead th {\n",
       "        text-align: right;\n",
       "    }\n",
       "</style>\n",
       "<table border=\"1\" class=\"dataframe\">\n",
       "  <thead>\n",
       "    <tr style=\"text-align: right;\">\n",
       "      <th></th>\n",
       "      <th>USA</th>\n",
       "      <th>China</th>\n",
       "      <th>Britain</th>\n",
       "    </tr>\n",
       "  </thead>\n",
       "  <tbody>\n",
       "    <tr>\n",
       "      <th>Ouro</th>\n",
       "      <td>46</td>\n",
       "      <td>26</td>\n",
       "      <td>27</td>\n",
       "    </tr>\n",
       "    <tr>\n",
       "      <th>Prata</th>\n",
       "      <td>37</td>\n",
       "      <td>18</td>\n",
       "      <td>23</td>\n",
       "    </tr>\n",
       "    <tr>\n",
       "      <th>Bronze</th>\n",
       "      <td>38</td>\n",
       "      <td>26</td>\n",
       "      <td>17</td>\n",
       "    </tr>\n",
       "  </tbody>\n",
       "</table>\n",
       "</div>"
      ],
      "text/plain": [
       "        USA  China  Britain\n",
       "Ouro     46     26       27\n",
       "Prata    37     18       23\n",
       "Bronze   38     26       17"
      ]
     },
     "execution_count": 37,
     "metadata": {},
     "output_type": "execute_result"
    }
   ],
   "source": [
    "Rio_2016.loc[:,Rio_2016.loc['Ouro'] > 20]"
   ]
  },
  {
   "cell_type": "code",
   "execution_count": 38,
   "id": "a6c3b60a",
   "metadata": {},
   "outputs": [
    {
     "data": {
      "text/plain": [
       "USA         True\n",
       "China      False\n",
       "Britain     True\n",
       "Russe      False\n",
       "Germany    False\n",
       "Name: Prata, dtype: bool"
      ]
     },
     "execution_count": 38,
     "metadata": {},
     "output_type": "execute_result"
    }
   ],
   "source": [
    "Rio_2016.loc['Prata'] > 20"
   ]
  },
  {
   "cell_type": "code",
   "execution_count": 39,
   "id": "7612e691",
   "metadata": {},
   "outputs": [
    {
     "data": {
      "text/plain": [
       "USA         True\n",
       "China      False\n",
       "Britain     True\n",
       "Russe      False\n",
       "Germany    False\n",
       "Name: Prata, dtype: bool"
      ]
     },
     "execution_count": 39,
     "metadata": {},
     "output_type": "execute_result"
    }
   ],
   "source": [
    "Rio_2016.loc['Prata'] > 20"
   ]
  },
  {
   "cell_type": "code",
   "execution_count": 40,
   "id": "ba20ea19",
   "metadata": {},
   "outputs": [
    {
     "data": {
      "text/html": [
       "<div>\n",
       "<style scoped>\n",
       "    .dataframe tbody tr th:only-of-type {\n",
       "        vertical-align: middle;\n",
       "    }\n",
       "\n",
       "    .dataframe tbody tr th {\n",
       "        vertical-align: top;\n",
       "    }\n",
       "\n",
       "    .dataframe thead th {\n",
       "        text-align: right;\n",
       "    }\n",
       "</style>\n",
       "<table border=\"1\" class=\"dataframe\">\n",
       "  <thead>\n",
       "    <tr style=\"text-align: right;\">\n",
       "      <th></th>\n",
       "      <th>USA</th>\n",
       "      <th>China</th>\n",
       "      <th>Britain</th>\n",
       "      <th>Russe</th>\n",
       "      <th>Germany</th>\n",
       "    </tr>\n",
       "  </thead>\n",
       "  <tbody>\n",
       "    <tr>\n",
       "      <th>Ouro</th>\n",
       "      <td>46</td>\n",
       "      <td>26</td>\n",
       "      <td>27</td>\n",
       "      <td>19</td>\n",
       "      <td>17</td>\n",
       "    </tr>\n",
       "    <tr>\n",
       "      <th>Prata</th>\n",
       "      <td>37</td>\n",
       "      <td>18</td>\n",
       "      <td>23</td>\n",
       "      <td>18</td>\n",
       "      <td>10</td>\n",
       "    </tr>\n",
       "  </tbody>\n",
       "</table>\n",
       "</div>"
      ],
      "text/plain": [
       "       USA  China  Britain  Russe  Germany\n",
       "Ouro    46     26       27     19       17\n",
       "Prata   37     18       23     18       10"
      ]
     },
     "execution_count": 40,
     "metadata": {},
     "output_type": "execute_result"
    }
   ],
   "source": [
    "Rio_2016.iloc[:2]"
   ]
  },
  {
   "cell_type": "code",
   "execution_count": 41,
   "id": "f5188b43",
   "metadata": {},
   "outputs": [
    {
     "data": {
      "text/plain": [
       "USA      38\n",
       "China    26\n",
       "Name: Bronze, dtype: int64"
      ]
     },
     "execution_count": 41,
     "metadata": {},
     "output_type": "execute_result"
    }
   ],
   "source": [
    "Rio_2016.iloc[2,0:2]"
   ]
  },
  {
   "cell_type": "code",
   "execution_count": 42,
   "id": "6838df24",
   "metadata": {},
   "outputs": [
    {
     "data": {
      "text/html": [
       "<div>\n",
       "<style scoped>\n",
       "    .dataframe tbody tr th:only-of-type {\n",
       "        vertical-align: middle;\n",
       "    }\n",
       "\n",
       "    .dataframe tbody tr th {\n",
       "        vertical-align: top;\n",
       "    }\n",
       "\n",
       "    .dataframe thead th {\n",
       "        text-align: right;\n",
       "    }\n",
       "</style>\n",
       "<table border=\"1\" class=\"dataframe\">\n",
       "  <thead>\n",
       "    <tr style=\"text-align: right;\">\n",
       "      <th></th>\n",
       "      <th>USA</th>\n",
       "      <th>China</th>\n",
       "      <th>Britain</th>\n",
       "      <th>Russe</th>\n",
       "      <th>Germany</th>\n",
       "    </tr>\n",
       "  </thead>\n",
       "  <tbody>\n",
       "    <tr>\n",
       "      <th>Bronze</th>\n",
       "      <td>38</td>\n",
       "      <td>26</td>\n",
       "      <td>17</td>\n",
       "      <td>19</td>\n",
       "      <td>15</td>\n",
       "    </tr>\n",
       "  </tbody>\n",
       "</table>\n",
       "</div>"
      ],
      "text/plain": [
       "        USA  China  Britain  Russe  Germany\n",
       "Bronze   38     26       17     19       15"
      ]
     },
     "execution_count": 42,
     "metadata": {},
     "output_type": "execute_result"
    }
   ],
   "source": [
    "Rio_2016.iloc[2:3, :]"
   ]
  },
  {
   "cell_type": "code",
   "execution_count": 43,
   "id": "63aaf8e1",
   "metadata": {},
   "outputs": [
    {
     "data": {
      "text/plain": [
       "USA        37\n",
       "China      18\n",
       "Britain    23\n",
       "Russe      18\n",
       "Germany    10\n",
       "Name: Prata, dtype: int64"
      ]
     },
     "execution_count": 43,
     "metadata": {},
     "output_type": "execute_result"
    }
   ],
   "source": [
    "Rio_2016.iloc[1,:]"
   ]
  },
  {
   "cell_type": "code",
   "execution_count": 44,
   "id": "3b47cf7f",
   "metadata": {},
   "outputs": [
    {
     "data": {
      "text/plain": [
       "38"
      ]
     },
     "execution_count": 44,
     "metadata": {},
     "output_type": "execute_result"
    }
   ],
   "source": [
    "Rio_2016.iloc[2,0]"
   ]
  },
  {
   "cell_type": "markdown",
   "id": "0b77a170",
   "metadata": {},
   "source": [
    "<h2>Removendo um membro do dataframe </h2>"
   ]
  },
  {
   "cell_type": "code",
   "execution_count": 45,
   "id": "367a9637",
   "metadata": {},
   "outputs": [],
   "source": [
    "del Rio_2016['USA']"
   ]
  },
  {
   "cell_type": "code",
   "execution_count": 46,
   "id": "e80a0447",
   "metadata": {},
   "outputs": [
    {
     "data": {
      "text/html": [
       "<div>\n",
       "<style scoped>\n",
       "    .dataframe tbody tr th:only-of-type {\n",
       "        vertical-align: middle;\n",
       "    }\n",
       "\n",
       "    .dataframe tbody tr th {\n",
       "        vertical-align: top;\n",
       "    }\n",
       "\n",
       "    .dataframe thead th {\n",
       "        text-align: right;\n",
       "    }\n",
       "</style>\n",
       "<table border=\"1\" class=\"dataframe\">\n",
       "  <thead>\n",
       "    <tr style=\"text-align: right;\">\n",
       "      <th></th>\n",
       "      <th>China</th>\n",
       "      <th>Britain</th>\n",
       "      <th>Russe</th>\n",
       "      <th>Germany</th>\n",
       "    </tr>\n",
       "  </thead>\n",
       "  <tbody>\n",
       "    <tr>\n",
       "      <th>Ouro</th>\n",
       "      <td>26</td>\n",
       "      <td>27</td>\n",
       "      <td>19</td>\n",
       "      <td>17</td>\n",
       "    </tr>\n",
       "    <tr>\n",
       "      <th>Prata</th>\n",
       "      <td>18</td>\n",
       "      <td>23</td>\n",
       "      <td>18</td>\n",
       "      <td>10</td>\n",
       "    </tr>\n",
       "    <tr>\n",
       "      <th>Bronze</th>\n",
       "      <td>26</td>\n",
       "      <td>17</td>\n",
       "      <td>19</td>\n",
       "      <td>15</td>\n",
       "    </tr>\n",
       "  </tbody>\n",
       "</table>\n",
       "</div>"
      ],
      "text/plain": [
       "        China  Britain  Russe  Germany\n",
       "Ouro       26       27     19       17\n",
       "Prata      18       23     18       10\n",
       "Bronze     26       17     19       15"
      ]
     },
     "execution_count": 46,
     "metadata": {},
     "output_type": "execute_result"
    }
   ],
   "source": [
    "Rio_2016"
   ]
  },
  {
   "cell_type": "markdown",
   "id": "686b7af1",
   "metadata": {},
   "source": [
    "<h2>Inserindo um membro no dataframe </h2>"
   ]
  },
  {
   "cell_type": "code",
   "execution_count": 47,
   "id": "178a74af",
   "metadata": {},
   "outputs": [],
   "source": [
    "Rio_2016.insert(0, 'Brasil', (7, 6, 6))"
   ]
  },
  {
   "cell_type": "code",
   "execution_count": 48,
   "id": "949dc6db",
   "metadata": {},
   "outputs": [
    {
     "data": {
      "text/html": [
       "<div>\n",
       "<style scoped>\n",
       "    .dataframe tbody tr th:only-of-type {\n",
       "        vertical-align: middle;\n",
       "    }\n",
       "\n",
       "    .dataframe tbody tr th {\n",
       "        vertical-align: top;\n",
       "    }\n",
       "\n",
       "    .dataframe thead th {\n",
       "        text-align: right;\n",
       "    }\n",
       "</style>\n",
       "<table border=\"1\" class=\"dataframe\">\n",
       "  <thead>\n",
       "    <tr style=\"text-align: right;\">\n",
       "      <th></th>\n",
       "      <th>Brasil</th>\n",
       "      <th>China</th>\n",
       "      <th>Britain</th>\n",
       "      <th>Russe</th>\n",
       "      <th>Germany</th>\n",
       "    </tr>\n",
       "  </thead>\n",
       "  <tbody>\n",
       "    <tr>\n",
       "      <th>Ouro</th>\n",
       "      <td>7</td>\n",
       "      <td>26</td>\n",
       "      <td>27</td>\n",
       "      <td>19</td>\n",
       "      <td>17</td>\n",
       "    </tr>\n",
       "    <tr>\n",
       "      <th>Prata</th>\n",
       "      <td>6</td>\n",
       "      <td>18</td>\n",
       "      <td>23</td>\n",
       "      <td>18</td>\n",
       "      <td>10</td>\n",
       "    </tr>\n",
       "    <tr>\n",
       "      <th>Bronze</th>\n",
       "      <td>6</td>\n",
       "      <td>26</td>\n",
       "      <td>17</td>\n",
       "      <td>19</td>\n",
       "      <td>15</td>\n",
       "    </tr>\n",
       "  </tbody>\n",
       "</table>\n",
       "</div>"
      ],
      "text/plain": [
       "        Brasil  China  Britain  Russe  Germany\n",
       "Ouro         7     26       27     19       17\n",
       "Prata        6     18       23     18       10\n",
       "Bronze       6     26       17     19       15"
      ]
     },
     "execution_count": 48,
     "metadata": {},
     "output_type": "execute_result"
    }
   ],
   "source": [
    "Rio_2016"
   ]
  },
  {
   "cell_type": "markdown",
   "id": "98b2ff89",
   "metadata": {},
   "source": [
    "<h2>Outras operações matemáticas</h2>"
   ]
  },
  {
   "cell_type": "code",
   "execution_count": 49,
   "id": "c4f14436",
   "metadata": {},
   "outputs": [
    {
     "data": {
      "text/html": [
       "<div>\n",
       "<style scoped>\n",
       "    .dataframe tbody tr th:only-of-type {\n",
       "        vertical-align: middle;\n",
       "    }\n",
       "\n",
       "    .dataframe tbody tr th {\n",
       "        vertical-align: top;\n",
       "    }\n",
       "\n",
       "    .dataframe thead th {\n",
       "        text-align: right;\n",
       "    }\n",
       "</style>\n",
       "<table border=\"1\" class=\"dataframe\">\n",
       "  <thead>\n",
       "    <tr style=\"text-align: right;\">\n",
       "      <th></th>\n",
       "      <th>Brasil</th>\n",
       "      <th>China</th>\n",
       "      <th>Britain</th>\n",
       "      <th>Russe</th>\n",
       "      <th>Germany</th>\n",
       "    </tr>\n",
       "  </thead>\n",
       "  <tbody>\n",
       "    <tr>\n",
       "      <th>count</th>\n",
       "      <td>3.000000</td>\n",
       "      <td>3.000000</td>\n",
       "      <td>3.000000</td>\n",
       "      <td>3.000000</td>\n",
       "      <td>3.000000</td>\n",
       "    </tr>\n",
       "    <tr>\n",
       "      <th>mean</th>\n",
       "      <td>6.333333</td>\n",
       "      <td>23.333333</td>\n",
       "      <td>22.333333</td>\n",
       "      <td>18.666667</td>\n",
       "      <td>14.000000</td>\n",
       "    </tr>\n",
       "    <tr>\n",
       "      <th>std</th>\n",
       "      <td>0.577350</td>\n",
       "      <td>4.618802</td>\n",
       "      <td>5.033223</td>\n",
       "      <td>0.577350</td>\n",
       "      <td>3.605551</td>\n",
       "    </tr>\n",
       "    <tr>\n",
       "      <th>min</th>\n",
       "      <td>6.000000</td>\n",
       "      <td>18.000000</td>\n",
       "      <td>17.000000</td>\n",
       "      <td>18.000000</td>\n",
       "      <td>10.000000</td>\n",
       "    </tr>\n",
       "    <tr>\n",
       "      <th>25%</th>\n",
       "      <td>6.000000</td>\n",
       "      <td>22.000000</td>\n",
       "      <td>20.000000</td>\n",
       "      <td>18.500000</td>\n",
       "      <td>12.500000</td>\n",
       "    </tr>\n",
       "    <tr>\n",
       "      <th>50%</th>\n",
       "      <td>6.000000</td>\n",
       "      <td>26.000000</td>\n",
       "      <td>23.000000</td>\n",
       "      <td>19.000000</td>\n",
       "      <td>15.000000</td>\n",
       "    </tr>\n",
       "    <tr>\n",
       "      <th>75%</th>\n",
       "      <td>6.500000</td>\n",
       "      <td>26.000000</td>\n",
       "      <td>25.000000</td>\n",
       "      <td>19.000000</td>\n",
       "      <td>16.000000</td>\n",
       "    </tr>\n",
       "    <tr>\n",
       "      <th>max</th>\n",
       "      <td>7.000000</td>\n",
       "      <td>26.000000</td>\n",
       "      <td>27.000000</td>\n",
       "      <td>19.000000</td>\n",
       "      <td>17.000000</td>\n",
       "    </tr>\n",
       "  </tbody>\n",
       "</table>\n",
       "</div>"
      ],
      "text/plain": [
       "         Brasil      China    Britain      Russe    Germany\n",
       "count  3.000000   3.000000   3.000000   3.000000   3.000000\n",
       "mean   6.333333  23.333333  22.333333  18.666667  14.000000\n",
       "std    0.577350   4.618802   5.033223   0.577350   3.605551\n",
       "min    6.000000  18.000000  17.000000  18.000000  10.000000\n",
       "25%    6.000000  22.000000  20.000000  18.500000  12.500000\n",
       "50%    6.000000  26.000000  23.000000  19.000000  15.000000\n",
       "75%    6.500000  26.000000  25.000000  19.000000  16.000000\n",
       "max    7.000000  26.000000  27.000000  19.000000  17.000000"
      ]
     },
     "execution_count": 49,
     "metadata": {},
     "output_type": "execute_result"
    }
   ],
   "source": [
    "Rio_2016.describe()"
   ]
  }
 ],
 "metadata": {
  "kernelspec": {
   "display_name": "Python 3 (ipykernel)",
   "language": "python",
   "name": "python3"
  },
  "language_info": {
   "codemirror_mode": {
    "name": "ipython",
    "version": 3
   },
   "file_extension": ".py",
   "mimetype": "text/x-python",
   "name": "python",
   "nbconvert_exporter": "python",
   "pygments_lexer": "ipython3",
   "version": "3.9.7"
  }
 },
 "nbformat": 4,
 "nbformat_minor": 5
}
