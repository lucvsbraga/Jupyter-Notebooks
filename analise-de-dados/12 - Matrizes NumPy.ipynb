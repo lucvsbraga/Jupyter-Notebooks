{
 "cells": [
  {
   "cell_type": "markdown",
   "id": "90c5ca3e",
   "metadata": {},
   "source": [
    "<h1>NumPy</h1>\n",
    "<br>\n",
    "<br>\n",
    "<h2> Arrays NumPy - objetos multidimensionais com N dimensões </h2>\n",
    "<br>\n",
    "<h2> Matrizes NumPy - objetos estritamente com 2 dimensões.</h2>\n",
    "<br>\n",
    "A principal vantagem de utilizar matrizes em NumPy é que este tipo de objeto possui convenientes notações para multiplicação de matrizes. Arrays e Matrizes NumPy possuem o atibuto .T para retornar a transposta da matriz, enquanto objetos do tipo matriz possuem adicionalmente atribuos .I (inversa) e .H (Transposta COnjugada).\n",
    "\n",
    "Existem diferenças em operações de álgebra lienar entre arrays e matrizes.\n",
    "Muitas funções NumPy retornam arrays e não matrizes como objeto resultante."
   ]
  },
  {
   "cell_type": "code",
   "execution_count": 1,
   "id": "a66313ea",
   "metadata": {},
   "outputs": [],
   "source": [
    "import sys\n",
    "import numpy as np"
   ]
  },
  {
   "cell_type": "markdown",
   "id": "2d518a71",
   "metadata": {},
   "source": [
    "<h1>Criando Matrizes</h1>"
   ]
  },
  {
   "cell_type": "code",
   "execution_count": 4,
   "id": "f3230ee1",
   "metadata": {},
   "outputs": [
    {
     "name": "stdout",
     "output_type": "stream",
     "text": [
      "[[1 2 3]\n",
      " [4 5 6]]\n"
     ]
    }
   ],
   "source": [
    "mat1 = np.matrix(\"1,2,3; 4,5,6\")\n",
    "print(mat1)"
   ]
  },
  {
   "cell_type": "code",
   "execution_count": 5,
   "id": "64de7185",
   "metadata": {},
   "outputs": [
    {
     "data": {
      "text/plain": [
       "numpy.matrix"
      ]
     },
     "execution_count": 5,
     "metadata": {},
     "output_type": "execute_result"
    }
   ],
   "source": [
    "type(mat1)"
   ]
  },
  {
   "cell_type": "code",
   "execution_count": 6,
   "id": "b8ec76b7",
   "metadata": {},
   "outputs": [
    {
     "name": "stdout",
     "output_type": "stream",
     "text": [
      "[[1 2 3]\n",
      " [4 5 6]]\n"
     ]
    }
   ],
   "source": [
    "mat2 = np.matrix([[1,2,3], [4,5,6]])\n",
    "print(mat2)"
   ]
  },
  {
   "cell_type": "code",
   "execution_count": 8,
   "id": "c274da0b",
   "metadata": {},
   "outputs": [
    {
     "name": "stdout",
     "output_type": "stream",
     "text": [
      "[[ 0 10  0  0  0]\n",
      " [ 0  0 20  0  0]\n",
      " [ 0  0  0 30  0]\n",
      " [ 0  0  0  0 40]\n",
      " [ 0  0  0  0  0]]\n"
     ]
    }
   ],
   "source": [
    "mat3 = np.matrix([ [0, 10, 0, 0, 0], [0, 0, 20, 0, 0], [0,0,0,30,0], [0,0,0,0,40], [0,0,0,0,0] ])\n",
    "print(mat3)"
   ]
  },
  {
   "cell_type": "code",
   "execution_count": 9,
   "id": "cc2e50e6",
   "metadata": {},
   "outputs": [
    {
     "data": {
      "text/plain": [
       "30"
      ]
     },
     "execution_count": 9,
     "metadata": {},
     "output_type": "execute_result"
    }
   ],
   "source": [
    "mat3[2,3]"
   ]
  },
  {
   "cell_type": "markdown",
   "id": "1681fafc",
   "metadata": {},
   "source": [
    "<h1> Matriz Esparsa </h1>\n",
    "<br>\n",
    "Uma matriz esparsa possui uma grande quantidade de elementos que valem zero (ou não presentes, ou não necessários). Matrizes esparsas têm aplicações em problemas de engenharia, física(por exemplo, o método de malhas para resolução de circuitos elétricos ou sistemas de equações lineares). Também têm aplicação em computação, como por exemplo em tecnologias do armazenamento de dados.\n",
    "\n",
    "A matriz esparsa é implementada através de um conjunto de listas ligadas que apontam para elementos diferentes de zero. De forma que os elementos possuem valor zero não são armazenados."
   ]
  },
  {
   "cell_type": "code",
   "execution_count": 10,
   "id": "bb3acfc1",
   "metadata": {},
   "outputs": [],
   "source": [
    "import scipy.sparse"
   ]
  },
  {
   "cell_type": "code",
   "execution_count": 11,
   "id": "d62bdf2b",
   "metadata": {},
   "outputs": [],
   "source": [
    "linhas = np.array([0,1,2,3])\n",
    "colunas = np.array([1,2,3,4])\n",
    "valores = np.array([10,20,30,40])"
   ]
  },
  {
   "cell_type": "code",
   "execution_count": 13,
   "id": "f1508530",
   "metadata": {},
   "outputs": [
    {
     "name": "stdout",
     "output_type": "stream",
     "text": [
      "  (0, 1)\t10\n",
      "  (1, 2)\t20\n",
      "  (2, 3)\t30\n",
      "  (3, 4)\t40\n"
     ]
    }
   ],
   "source": [
    "mat4 = scipy.sparse.coo_matrix((valores, (linhas, colunas)))\n",
    "print(mat4)"
   ]
  },
  {
   "cell_type": "code",
   "execution_count": 14,
   "id": "33ac85d7",
   "metadata": {},
   "outputs": [
    {
     "name": "stdout",
     "output_type": "stream",
     "text": [
      "[[ 0 10  0  0  0]\n",
      " [ 0  0 20  0  0]\n",
      " [ 0  0  0 30  0]\n",
      " [ 0  0  0  0 40]]\n"
     ]
    }
   ],
   "source": [
    "print(mat4.todense())"
   ]
  },
  {
   "cell_type": "code",
   "execution_count": 15,
   "id": "d7a86911",
   "metadata": {},
   "outputs": [
    {
     "data": {
      "text/plain": [
       "True"
      ]
     },
     "execution_count": 15,
     "metadata": {},
     "output_type": "execute_result"
    }
   ],
   "source": [
    "scipy.sparse.isspmatrix_coo(mat4)"
   ]
  },
  {
   "cell_type": "markdown",
   "id": "e3056a2a",
   "metadata": {},
   "source": [
    "<h1> Operações com Arrays e Matrizes </h1>"
   ]
  },
  {
   "cell_type": "code",
   "execution_count": 16,
   "id": "61db39f8",
   "metadata": {},
   "outputs": [
    {
     "data": {
      "text/plain": [
       "array([[1, 2],\n",
       "       [3, 4]])"
      ]
     },
     "execution_count": 16,
     "metadata": {},
     "output_type": "execute_result"
    }
   ],
   "source": [
    "a = np.array([[1,2],[3,4]])\n",
    "a"
   ]
  },
  {
   "cell_type": "code",
   "execution_count": 17,
   "id": "a363f524",
   "metadata": {},
   "outputs": [
    {
     "data": {
      "text/plain": [
       "array([[ 1,  4],\n",
       "       [ 9, 16]])"
      ]
     },
     "execution_count": 17,
     "metadata": {},
     "output_type": "execute_result"
    }
   ],
   "source": [
    "a * a"
   ]
  },
  {
   "cell_type": "code",
   "execution_count": 18,
   "id": "407c432d",
   "metadata": {},
   "outputs": [
    {
     "data": {
      "text/plain": [
       "matrix([[1, 2],\n",
       "        [3, 4]])"
      ]
     },
     "execution_count": 18,
     "metadata": {},
     "output_type": "execute_result"
    }
   ],
   "source": [
    "A = np.mat(a)\n",
    "A"
   ]
  },
  {
   "cell_type": "code",
   "execution_count": 19,
   "id": "602f8d1e",
   "metadata": {},
   "outputs": [
    {
     "data": {
      "text/plain": [
       "matrix([[ 7, 10],\n",
       "        [15, 22]])"
      ]
     },
     "execution_count": 19,
     "metadata": {},
     "output_type": "execute_result"
    }
   ],
   "source": [
    "A * A"
   ]
  },
  {
   "cell_type": "code",
   "execution_count": 20,
   "id": "ca8e766f",
   "metadata": {},
   "outputs": [
    {
     "data": {
      "text/plain": [
       "array([[ 7, 10],\n",
       "       [15, 22]])"
      ]
     },
     "execution_count": 20,
     "metadata": {},
     "output_type": "execute_result"
    }
   ],
   "source": [
    "np.dot(a, a)"
   ]
  },
  {
   "cell_type": "code",
   "execution_count": 21,
   "id": "96cb5fd6",
   "metadata": {},
   "outputs": [
    {
     "data": {
      "text/plain": [
       "matrix([[1, 2],\n",
       "        [3, 4]])"
      ]
     },
     "execution_count": 21,
     "metadata": {},
     "output_type": "execute_result"
    }
   ],
   "source": [
    "# convertendo um Array para uma Matriz\n",
    "mat5 = np.asmatrix(a)\n",
    "mat5"
   ]
  },
  {
   "cell_type": "code",
   "execution_count": 22,
   "id": "550c7931",
   "metadata": {},
   "outputs": [
    {
     "data": {
      "text/plain": [
       "matrix([[ 7, 10],\n",
       "        [15, 22]])"
      ]
     },
     "execution_count": 22,
     "metadata": {},
     "output_type": "execute_result"
    }
   ],
   "source": [
    "mat5 * mat5"
   ]
  },
  {
   "cell_type": "code",
   "execution_count": 24,
   "id": "b92a8edc",
   "metadata": {},
   "outputs": [
    {
     "data": {
      "text/plain": [
       "array([[1, 2],\n",
       "       [3, 4]])"
      ]
     },
     "execution_count": 24,
     "metadata": {},
     "output_type": "execute_result"
    }
   ],
   "source": [
    "# Convertendo uma Matriz para Array\n",
    "array2 = np.asarray(mat5)\n",
    "array2"
   ]
  },
  {
   "cell_type": "code",
   "execution_count": 25,
   "id": "e78cb9be",
   "metadata": {},
   "outputs": [
    {
     "data": {
      "text/plain": [
       "array([[ 1,  4],\n",
       "       [ 9, 16]])"
      ]
     },
     "execution_count": 25,
     "metadata": {},
     "output_type": "execute_result"
    }
   ],
   "source": [
    "array2 * array2"
   ]
  }
 ],
 "metadata": {
  "kernelspec": {
   "display_name": "Python 3 (ipykernel)",
   "language": "python",
   "name": "python3"
  },
  "language_info": {
   "codemirror_mode": {
    "name": "ipython",
    "version": 3
   },
   "file_extension": ".py",
   "mimetype": "text/x-python",
   "name": "python",
   "nbconvert_exporter": "python",
   "pygments_lexer": "ipython3",
   "version": "3.9.7"
  }
 },
 "nbformat": 4,
 "nbformat_minor": 5
}
