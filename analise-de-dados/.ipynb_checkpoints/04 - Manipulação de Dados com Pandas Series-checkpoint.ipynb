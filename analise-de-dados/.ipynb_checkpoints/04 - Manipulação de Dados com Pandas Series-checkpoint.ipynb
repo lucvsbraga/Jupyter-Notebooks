{
 "cells": [
  {
   "cell_type": "markdown",
   "id": "d4a7129a",
   "metadata": {},
   "source": [
    "<h1> Estrutura de Dados em pandas </h1>\n",
    "<br>\n",
    "pandas.Series() - 1 Dimensão - 1D\n",
    "<br>\n",
    "pandas.DataFrame() - 2 Dimensões - 2D\n",
    "<br>\n",
    "pandas.Panel() - 3 Dimensões - 3D\n",
    "<br>\n",
    "numpy.ndarray() - x Dimensões"
   ]
  },
  {
   "cell_type": "markdown",
   "id": "a9b70bdc",
   "metadata": {},
   "source": [
    "<h2> Series </h2>"
   ]
  },
  {
   "cell_type": "code",
   "execution_count": 1,
   "id": "48a8cfbd",
   "metadata": {},
   "outputs": [],
   "source": [
    "import pandas as pd\n",
    "import numpy as np"
   ]
  },
  {
   "cell_type": "markdown",
   "id": "cd0a13b6",
   "metadata": {},
   "source": [
    "<h2> Usando numpy.ndarray </h2>"
   ]
  },
  {
   "cell_type": "code",
   "execution_count": 3,
   "id": "9f7549a6",
   "metadata": {},
   "outputs": [
    {
     "data": {
      "text/plain": [
       "0    0.543405\n",
       "1    0.278369\n",
       "2    0.424518\n",
       "3    0.844776\n",
       "4    0.004719\n",
       "5    0.121569\n",
       "6    0.670749\n",
       "7    0.825853\n",
       "8    0.136707\n",
       "9    0.575093\n",
       "dtype: float64"
      ]
     },
     "execution_count": 3,
     "metadata": {},
     "output_type": "execute_result"
    }
   ],
   "source": [
    "np.random.seed(100)\n",
    "Serie1 = pd.Series(np.random.rand(10))\n",
    "Serie1"
   ]
  },
  {
   "cell_type": "code",
   "execution_count": 4,
   "id": "7b393877",
   "metadata": {},
   "outputs": [
    {
     "data": {
      "text/plain": [
       "pandas.core.series.Series"
      ]
     },
     "execution_count": 4,
     "metadata": {},
     "output_type": "execute_result"
    }
   ],
   "source": [
    "type(Serie1)"
   ]
  },
  {
   "cell_type": "code",
   "execution_count": 8,
   "id": "826a99f0",
   "metadata": {},
   "outputs": [],
   "source": [
    "import calendar as cal"
   ]
  },
  {
   "cell_type": "code",
   "execution_count": 10,
   "id": "f4d5f64e",
   "metadata": {},
   "outputs": [],
   "source": [
    "meses = [cal.month_name[i] for i in np.arange(1, 13)]\n",
    "meses_Series1 = pd.Series(np.arange(1, 13), index = meses)"
   ]
  },
  {
   "cell_type": "code",
   "execution_count": 11,
   "id": "d467112d",
   "metadata": {},
   "outputs": [
    {
     "data": {
      "text/plain": [
       "January       1\n",
       "February      2\n",
       "March         3\n",
       "April         4\n",
       "May           5\n",
       "June          6\n",
       "July          7\n",
       "August        8\n",
       "September     9\n",
       "October      10\n",
       "November     11\n",
       "December     12\n",
       "dtype: int32"
      ]
     },
     "execution_count": 11,
     "metadata": {},
     "output_type": "execute_result"
    }
   ],
   "source": [
    "meses_Series1"
   ]
  },
  {
   "cell_type": "code",
   "execution_count": 12,
   "id": "d385380c",
   "metadata": {},
   "outputs": [
    {
     "data": {
      "text/plain": [
       "Index(['January', 'February', 'March', 'April', 'May', 'June', 'July',\n",
       "       'August', 'September', 'October', 'November', 'December'],\n",
       "      dtype='object')"
      ]
     },
     "execution_count": 12,
     "metadata": {},
     "output_type": "execute_result"
    }
   ],
   "source": [
    "meses_Series1.index"
   ]
  },
  {
   "cell_type": "markdown",
   "id": "873fd9ef",
   "metadata": {},
   "source": [
    "<h2> Usando Dicionários Python </h2>"
   ]
  },
  {
   "cell_type": "code",
   "execution_count": 13,
   "id": "5e6e561c",
   "metadata": {},
   "outputs": [],
   "source": [
    "dict1 = {'US' : 'DOLLAR', 'UK' : 'POUND', 'GERMANY' : 'EURO', 'BRAZIL' : 'REAL', 'CHINA' : 'YUAN', 'JAPAN' : 'YEN'}"
   ]
  },
  {
   "cell_type": "code",
   "execution_count": 14,
   "id": "30fa069f",
   "metadata": {},
   "outputs": [],
   "source": [
    "moeda_Series1 = pd.Series(dict1)"
   ]
  },
  {
   "cell_type": "code",
   "execution_count": 15,
   "id": "976cca6b",
   "metadata": {},
   "outputs": [
    {
     "data": {
      "text/plain": [
       "US         DOLLAR\n",
       "UK          POUND\n",
       "GERMANY      EURO\n",
       "BRAZIL       REAL\n",
       "CHINA        YUAN\n",
       "JAPAN         YEN\n",
       "dtype: object"
      ]
     },
     "execution_count": 15,
     "metadata": {},
     "output_type": "execute_result"
    }
   ],
   "source": [
    "moeda_Series1"
   ]
  },
  {
   "cell_type": "code",
   "execution_count": 16,
   "id": "f653d9be",
   "metadata": {},
   "outputs": [],
   "source": [
    "stockPrices = {'GOOG':1092.23, 'FB':59.78, 'TWTR': 67.31, 'AMZN': 342.90, 'AAPL': 501.60}"
   ]
  },
  {
   "cell_type": "code",
   "execution_count": 21,
   "id": "f2819803",
   "metadata": {},
   "outputs": [],
   "source": [
    "stockPricesSeries = pd.Series(stockPrices, index = ['GOOG', 'FB', 'YHOO' ,'TWTR', 'AMZN', 'AAPL'], name = 'stockPrices')"
   ]
  },
  {
   "cell_type": "code",
   "execution_count": 22,
   "id": "4eabcaf6",
   "metadata": {},
   "outputs": [
    {
     "data": {
      "text/plain": [
       "GOOG    1092.23\n",
       "FB        59.78\n",
       "YHOO        NaN\n",
       "TWTR      67.31\n",
       "AMZN     342.90\n",
       "AAPL     501.60\n",
       "Name: stockPrices, dtype: float64"
      ]
     },
     "execution_count": 22,
     "metadata": {},
     "output_type": "execute_result"
    }
   ],
   "source": [
    "stockPricesSeries"
   ]
  },
  {
   "cell_type": "markdown",
   "id": "ec5281cf",
   "metadata": {},
   "source": [
    "<h2> Usando valores escalares </h2>"
   ]
  },
  {
   "cell_type": "code",
   "execution_count": 23,
   "id": "dc4b8006",
   "metadata": {},
   "outputs": [],
   "source": [
    "humanSerie = pd.Series('Homem', index = ['pernas', 'tronco', 'peito', 'cabeça'])"
   ]
  },
  {
   "cell_type": "code",
   "execution_count": 24,
   "id": "28b73aa6",
   "metadata": {},
   "outputs": [
    {
     "data": {
      "text/plain": [
       "pernas    Homem\n",
       "tronco    Homem\n",
       "peito     Homem\n",
       "cabeça    Homem\n",
       "dtype: object"
      ]
     },
     "execution_count": 24,
     "metadata": {},
     "output_type": "execute_result"
    }
   ],
   "source": [
    "humanSerie"
   ]
  },
  {
   "cell_type": "markdown",
   "id": "a21be7f0",
   "metadata": {},
   "source": [
    " <h2> Operações com Séries </h2>"
   ]
  },
  {
   "cell_type": "code",
   "execution_count": 26,
   "id": "0147a985",
   "metadata": {},
   "outputs": [
    {
     "data": {
      "text/plain": [
       "'YUAN'"
      ]
     },
     "execution_count": 26,
     "metadata": {},
     "output_type": "execute_result"
    }
   ],
   "source": [
    "# Obtendo um único valor\n",
    "dict1['CHINA']"
   ]
  },
  {
   "cell_type": "code",
   "execution_count": 27,
   "id": "17798a57",
   "metadata": {},
   "outputs": [],
   "source": [
    "# Alterando um elemento\n",
    "stockPricesSeries['GOOG'] = 1300.0"
   ]
  },
  {
   "cell_type": "code",
   "execution_count": 28,
   "id": "d865e1cd",
   "metadata": {},
   "outputs": [
    {
     "data": {
      "text/plain": [
       "GOOG    1300.00\n",
       "FB        59.78\n",
       "YHOO        NaN\n",
       "TWTR      67.31\n",
       "AMZN     342.90\n",
       "AAPL     501.60\n",
       "Name: stockPrices, dtype: float64"
      ]
     },
     "execution_count": 28,
     "metadata": {},
     "output_type": "execute_result"
    }
   ],
   "source": [
    "stockPricesSeries"
   ]
  },
  {
   "cell_type": "code",
   "execution_count": 30,
   "id": "b7f6098a",
   "metadata": {},
   "outputs": [
    {
     "ename": "KeyError",
     "evalue": "'XPTO'",
     "output_type": "error",
     "traceback": [
      "\u001b[1;31m---------------------------------------------------------------------------\u001b[0m",
      "\u001b[1;31mKeyError\u001b[0m                                  Traceback (most recent call last)",
      "\u001b[1;32m~\\anaconda3\\lib\\site-packages\\pandas\\core\\indexes\\base.py\u001b[0m in \u001b[0;36mget_loc\u001b[1;34m(self, key, method, tolerance)\u001b[0m\n\u001b[0;32m   3360\u001b[0m             \u001b[1;32mtry\u001b[0m\u001b[1;33m:\u001b[0m\u001b[1;33m\u001b[0m\u001b[1;33m\u001b[0m\u001b[0m\n\u001b[1;32m-> 3361\u001b[1;33m                 \u001b[1;32mreturn\u001b[0m \u001b[0mself\u001b[0m\u001b[1;33m.\u001b[0m\u001b[0m_engine\u001b[0m\u001b[1;33m.\u001b[0m\u001b[0mget_loc\u001b[0m\u001b[1;33m(\u001b[0m\u001b[0mcasted_key\u001b[0m\u001b[1;33m)\u001b[0m\u001b[1;33m\u001b[0m\u001b[1;33m\u001b[0m\u001b[0m\n\u001b[0m\u001b[0;32m   3362\u001b[0m             \u001b[1;32mexcept\u001b[0m \u001b[0mKeyError\u001b[0m \u001b[1;32mas\u001b[0m \u001b[0merr\u001b[0m\u001b[1;33m:\u001b[0m\u001b[1;33m\u001b[0m\u001b[1;33m\u001b[0m\u001b[0m\n",
      "\u001b[1;32m~\\anaconda3\\lib\\site-packages\\pandas\\_libs\\index.pyx\u001b[0m in \u001b[0;36mpandas._libs.index.IndexEngine.get_loc\u001b[1;34m()\u001b[0m\n",
      "\u001b[1;32m~\\anaconda3\\lib\\site-packages\\pandas\\_libs\\index.pyx\u001b[0m in \u001b[0;36mpandas._libs.index.IndexEngine.get_loc\u001b[1;34m()\u001b[0m\n",
      "\u001b[1;32mpandas\\_libs\\hashtable_class_helper.pxi\u001b[0m in \u001b[0;36mpandas._libs.hashtable.PyObjectHashTable.get_item\u001b[1;34m()\u001b[0m\n",
      "\u001b[1;32mpandas\\_libs\\hashtable_class_helper.pxi\u001b[0m in \u001b[0;36mpandas._libs.hashtable.PyObjectHashTable.get_item\u001b[1;34m()\u001b[0m\n",
      "\u001b[1;31mKeyError\u001b[0m: 'XPTO'",
      "\nThe above exception was the direct cause of the following exception:\n",
      "\u001b[1;31mKeyError\u001b[0m                                  Traceback (most recent call last)",
      "\u001b[1;32m~\\AppData\\Local\\Temp/ipykernel_7540/3011063763.py\u001b[0m in \u001b[0;36m<module>\u001b[1;34m\u001b[0m\n\u001b[1;32m----> 1\u001b[1;33m \u001b[0mstockPricesSeries\u001b[0m\u001b[1;33m[\u001b[0m\u001b[1;34m'XPTO'\u001b[0m\u001b[1;33m]\u001b[0m\u001b[1;33m\u001b[0m\u001b[1;33m\u001b[0m\u001b[0m\n\u001b[0m",
      "\u001b[1;32m~\\anaconda3\\lib\\site-packages\\pandas\\core\\series.py\u001b[0m in \u001b[0;36m__getitem__\u001b[1;34m(self, key)\u001b[0m\n\u001b[0;32m    940\u001b[0m \u001b[1;33m\u001b[0m\u001b[0m\n\u001b[0;32m    941\u001b[0m         \u001b[1;32melif\u001b[0m \u001b[0mkey_is_scalar\u001b[0m\u001b[1;33m:\u001b[0m\u001b[1;33m\u001b[0m\u001b[1;33m\u001b[0m\u001b[0m\n\u001b[1;32m--> 942\u001b[1;33m             \u001b[1;32mreturn\u001b[0m \u001b[0mself\u001b[0m\u001b[1;33m.\u001b[0m\u001b[0m_get_value\u001b[0m\u001b[1;33m(\u001b[0m\u001b[0mkey\u001b[0m\u001b[1;33m)\u001b[0m\u001b[1;33m\u001b[0m\u001b[1;33m\u001b[0m\u001b[0m\n\u001b[0m\u001b[0;32m    943\u001b[0m \u001b[1;33m\u001b[0m\u001b[0m\n\u001b[0;32m    944\u001b[0m         \u001b[1;32mif\u001b[0m \u001b[0mis_hashable\u001b[0m\u001b[1;33m(\u001b[0m\u001b[0mkey\u001b[0m\u001b[1;33m)\u001b[0m\u001b[1;33m:\u001b[0m\u001b[1;33m\u001b[0m\u001b[1;33m\u001b[0m\u001b[0m\n",
      "\u001b[1;32m~\\anaconda3\\lib\\site-packages\\pandas\\core\\series.py\u001b[0m in \u001b[0;36m_get_value\u001b[1;34m(self, label, takeable)\u001b[0m\n\u001b[0;32m   1049\u001b[0m \u001b[1;33m\u001b[0m\u001b[0m\n\u001b[0;32m   1050\u001b[0m         \u001b[1;31m# Similar to Index.get_value, but we do not fall back to positional\u001b[0m\u001b[1;33m\u001b[0m\u001b[1;33m\u001b[0m\u001b[0m\n\u001b[1;32m-> 1051\u001b[1;33m         \u001b[0mloc\u001b[0m \u001b[1;33m=\u001b[0m \u001b[0mself\u001b[0m\u001b[1;33m.\u001b[0m\u001b[0mindex\u001b[0m\u001b[1;33m.\u001b[0m\u001b[0mget_loc\u001b[0m\u001b[1;33m(\u001b[0m\u001b[0mlabel\u001b[0m\u001b[1;33m)\u001b[0m\u001b[1;33m\u001b[0m\u001b[1;33m\u001b[0m\u001b[0m\n\u001b[0m\u001b[0;32m   1052\u001b[0m         \u001b[1;32mreturn\u001b[0m \u001b[0mself\u001b[0m\u001b[1;33m.\u001b[0m\u001b[0mindex\u001b[0m\u001b[1;33m.\u001b[0m\u001b[0m_get_values_for_loc\u001b[0m\u001b[1;33m(\u001b[0m\u001b[0mself\u001b[0m\u001b[1;33m,\u001b[0m \u001b[0mloc\u001b[0m\u001b[1;33m,\u001b[0m \u001b[0mlabel\u001b[0m\u001b[1;33m)\u001b[0m\u001b[1;33m\u001b[0m\u001b[1;33m\u001b[0m\u001b[0m\n\u001b[0;32m   1053\u001b[0m \u001b[1;33m\u001b[0m\u001b[0m\n",
      "\u001b[1;32m~\\anaconda3\\lib\\site-packages\\pandas\\core\\indexes\\base.py\u001b[0m in \u001b[0;36mget_loc\u001b[1;34m(self, key, method, tolerance)\u001b[0m\n\u001b[0;32m   3361\u001b[0m                 \u001b[1;32mreturn\u001b[0m \u001b[0mself\u001b[0m\u001b[1;33m.\u001b[0m\u001b[0m_engine\u001b[0m\u001b[1;33m.\u001b[0m\u001b[0mget_loc\u001b[0m\u001b[1;33m(\u001b[0m\u001b[0mcasted_key\u001b[0m\u001b[1;33m)\u001b[0m\u001b[1;33m\u001b[0m\u001b[1;33m\u001b[0m\u001b[0m\n\u001b[0;32m   3362\u001b[0m             \u001b[1;32mexcept\u001b[0m \u001b[0mKeyError\u001b[0m \u001b[1;32mas\u001b[0m \u001b[0merr\u001b[0m\u001b[1;33m:\u001b[0m\u001b[1;33m\u001b[0m\u001b[1;33m\u001b[0m\u001b[0m\n\u001b[1;32m-> 3363\u001b[1;33m                 \u001b[1;32mraise\u001b[0m \u001b[0mKeyError\u001b[0m\u001b[1;33m(\u001b[0m\u001b[0mkey\u001b[0m\u001b[1;33m)\u001b[0m \u001b[1;32mfrom\u001b[0m \u001b[0merr\u001b[0m\u001b[1;33m\u001b[0m\u001b[1;33m\u001b[0m\u001b[0m\n\u001b[0m\u001b[0;32m   3364\u001b[0m \u001b[1;33m\u001b[0m\u001b[0m\n\u001b[0;32m   3365\u001b[0m         \u001b[1;32mif\u001b[0m \u001b[0mis_scalar\u001b[0m\u001b[1;33m(\u001b[0m\u001b[0mkey\u001b[0m\u001b[1;33m)\u001b[0m \u001b[1;32mand\u001b[0m \u001b[0misna\u001b[0m\u001b[1;33m(\u001b[0m\u001b[0mkey\u001b[0m\u001b[1;33m)\u001b[0m \u001b[1;32mand\u001b[0m \u001b[1;32mnot\u001b[0m \u001b[0mself\u001b[0m\u001b[1;33m.\u001b[0m\u001b[0mhasnans\u001b[0m\u001b[1;33m:\u001b[0m\u001b[1;33m\u001b[0m\u001b[1;33m\u001b[0m\u001b[0m\n",
      "\u001b[1;31mKeyError\u001b[0m: 'XPTO'"
     ]
    }
   ],
   "source": [
    "stockPricesSeries['XPTO']"
   ]
  },
  {
   "cell_type": "code",
   "execution_count": 38,
   "id": "3d39bc4d",
   "metadata": {},
   "outputs": [
    {
     "data": {
      "text/plain": [
       "nan"
      ]
     },
     "execution_count": 38,
     "metadata": {},
     "output_type": "execute_result"
    }
   ],
   "source": [
    "# Evitando mensagem de erro\n",
    "stockPricesSeries.get('XPTO', np.NaN)"
   ]
  },
  {
   "cell_type": "markdown",
   "id": "5d671d0c",
   "metadata": {},
   "source": [
    "<h2> Slicing </h2>"
   ]
  },
  {
   "cell_type": "code",
   "execution_count": 33,
   "id": "b96c3f0f",
   "metadata": {},
   "outputs": [
    {
     "data": {
      "text/plain": [
       "GOOG    1300.00\n",
       "FB        59.78\n",
       "YHOO        NaN\n",
       "TWTR      67.31\n",
       "Name: stockPrices, dtype: float64"
      ]
     },
     "execution_count": 33,
     "metadata": {},
     "output_type": "execute_result"
    }
   ],
   "source": [
    "stockPricesSeries[:4]"
   ]
  },
  {
   "cell_type": "code",
   "execution_count": 34,
   "id": "929865aa",
   "metadata": {},
   "outputs": [
    {
     "data": {
      "text/plain": [
       "GOOG    1300.0\n",
       "AMZN     342.9\n",
       "AAPL     501.6\n",
       "Name: stockPrices, dtype: float64"
      ]
     },
     "execution_count": 34,
     "metadata": {},
     "output_type": "execute_result"
    }
   ],
   "source": [
    "stockPricesSeries[stockPricesSeries > 100]"
   ]
  },
  {
   "cell_type": "markdown",
   "id": "71257ef9",
   "metadata": {},
   "source": [
    "<h2>Outras operações </h2>"
   ]
  },
  {
   "cell_type": "code",
   "execution_count": 36,
   "id": "02a740a8",
   "metadata": {},
   "outputs": [
    {
     "data": {
      "text/plain": [
       "454.3179999999999"
      ]
     },
     "execution_count": 36,
     "metadata": {},
     "output_type": "execute_result"
    }
   ],
   "source": [
    "np.mean(stockPricesSeries)"
   ]
  },
  {
   "cell_type": "code",
   "execution_count": 37,
   "id": "6359c70c",
   "metadata": {},
   "outputs": [
    {
     "data": {
      "text/plain": [
       "455.03033500635973"
      ]
     },
     "execution_count": 37,
     "metadata": {},
     "output_type": "execute_result"
    }
   ],
   "source": [
    "np.std(stockPricesSeries)"
   ]
  }
 ],
 "metadata": {
  "kernelspec": {
   "display_name": "Python 3 (ipykernel)",
   "language": "python",
   "name": "python3"
  },
  "language_info": {
   "codemirror_mode": {
    "name": "ipython",
    "version": 3
   },
   "file_extension": ".py",
   "mimetype": "text/x-python",
   "name": "python",
   "nbconvert_exporter": "python",
   "pygments_lexer": "ipython3",
   "version": "3.9.7"
  }
 },
 "nbformat": 4,
 "nbformat_minor": 5
}
