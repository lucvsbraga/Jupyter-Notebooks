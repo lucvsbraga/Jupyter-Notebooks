{
 "cells": [
  {
   "cell_type": "markdown",
   "id": "6bbda6ae",
   "metadata": {},
   "source": [
    "<h1>Séries Temporais\n",
    "    "
   ]
  },
  {
   "cell_type": "code",
   "execution_count": 4,
   "id": "52821839",
   "metadata": {},
   "outputs": [],
   "source": [
    "import datetime\n",
    "import pandas as pd\n",
    "import numpy as np\n",
    "import pandas_datareader.data as web\n",
    "import matplotlib.pyplot as plt\n",
    "from matplotlib import style\n",
    "%matplotlib inline"
   ]
  },
  {
   "cell_type": "code",
   "execution_count": 5,
   "id": "bbcc8a20",
   "metadata": {},
   "outputs": [],
   "source": [
    "style.use('fivethirtyeight')"
   ]
  },
  {
   "cell_type": "code",
   "execution_count": 6,
   "id": "96c8394a",
   "metadata": {},
   "outputs": [
    {
     "name": "stdout",
     "output_type": "stream",
     "text": [
      "['Solarize_Light2', '_classic_test_patch', '_mpl-gallery', '_mpl-gallery-nogrid', 'bmh', 'classic', 'dark_background', 'fast', 'fivethirtyeight', 'ggplot', 'grayscale', 'seaborn', 'seaborn-bright', 'seaborn-colorblind', 'seaborn-dark', 'seaborn-dark-palette', 'seaborn-darkgrid', 'seaborn-deep', 'seaborn-muted', 'seaborn-notebook', 'seaborn-paper', 'seaborn-pastel', 'seaborn-poster', 'seaborn-talk', 'seaborn-ticks', 'seaborn-white', 'seaborn-whitegrid', 'tableau-colorblind10']\n"
     ]
    }
   ],
   "source": [
    "print(plt.style.available)"
   ]
  },
  {
   "cell_type": "code",
   "execution_count": 22,
   "id": "80067e2c",
   "metadata": {},
   "outputs": [],
   "source": [
    "start = datetime.datetime(2021, 1, 1)\n",
    "end = datetime.datetime(2022, 4, 18)\n",
    "empresa = 'PBR'\n",
    "ptbr = web.get_data_yahoo(empresa, start, end)"
   ]
  },
  {
   "cell_type": "code",
   "execution_count": 8,
   "id": "09e784f8",
   "metadata": {},
   "outputs": [
    {
     "data": {
      "text/plain": [
       "pandas.core.frame.DataFrame"
      ]
     },
     "execution_count": 8,
     "metadata": {},
     "output_type": "execute_result"
    }
   ],
   "source": [
    "type(ptbr)"
   ]
  },
  {
   "cell_type": "code",
   "execution_count": 9,
   "id": "4fd5952c",
   "metadata": {},
   "outputs": [
    {
     "data": {
      "text/html": [
       "<div>\n",
       "<style scoped>\n",
       "    .dataframe tbody tr th:only-of-type {\n",
       "        vertical-align: middle;\n",
       "    }\n",
       "\n",
       "    .dataframe tbody tr th {\n",
       "        vertical-align: top;\n",
       "    }\n",
       "\n",
       "    .dataframe thead th {\n",
       "        text-align: right;\n",
       "    }\n",
       "</style>\n",
       "<table border=\"1\" class=\"dataframe\">\n",
       "  <thead>\n",
       "    <tr style=\"text-align: right;\">\n",
       "      <th></th>\n",
       "      <th>High</th>\n",
       "      <th>Low</th>\n",
       "      <th>Open</th>\n",
       "      <th>Close</th>\n",
       "      <th>Volume</th>\n",
       "      <th>Adj Close</th>\n",
       "    </tr>\n",
       "    <tr>\n",
       "      <th>Date</th>\n",
       "      <th></th>\n",
       "      <th></th>\n",
       "      <th></th>\n",
       "      <th></th>\n",
       "      <th></th>\n",
       "      <th></th>\n",
       "    </tr>\n",
       "  </thead>\n",
       "  <tbody>\n",
       "    <tr>\n",
       "      <th>2021-03-17</th>\n",
       "      <td>8.47</td>\n",
       "      <td>7.99</td>\n",
       "      <td>8.02</td>\n",
       "      <td>8.43</td>\n",
       "      <td>31789000.0</td>\n",
       "      <td>5.750809</td>\n",
       "    </tr>\n",
       "    <tr>\n",
       "      <th>2021-03-18</th>\n",
       "      <td>8.49</td>\n",
       "      <td>8.14</td>\n",
       "      <td>8.31</td>\n",
       "      <td>8.23</td>\n",
       "      <td>35546000.0</td>\n",
       "      <td>5.614372</td>\n",
       "    </tr>\n",
       "    <tr>\n",
       "      <th>2021-03-19</th>\n",
       "      <td>8.61</td>\n",
       "      <td>8.18</td>\n",
       "      <td>8.28</td>\n",
       "      <td>8.49</td>\n",
       "      <td>29644800.0</td>\n",
       "      <td>5.791740</td>\n",
       "    </tr>\n",
       "    <tr>\n",
       "      <th>2021-03-22</th>\n",
       "      <td>8.44</td>\n",
       "      <td>8.20</td>\n",
       "      <td>8.34</td>\n",
       "      <td>8.37</td>\n",
       "      <td>23507200.0</td>\n",
       "      <td>5.709878</td>\n",
       "    </tr>\n",
       "    <tr>\n",
       "      <th>2021-03-23</th>\n",
       "      <td>8.45</td>\n",
       "      <td>8.13</td>\n",
       "      <td>8.26</td>\n",
       "      <td>8.15</td>\n",
       "      <td>30057300.0</td>\n",
       "      <td>5.559797</td>\n",
       "    </tr>\n",
       "  </tbody>\n",
       "</table>\n",
       "</div>"
      ],
      "text/plain": [
       "            High   Low  Open  Close      Volume  Adj Close\n",
       "Date                                                      \n",
       "2021-03-17  8.47  7.99  8.02   8.43  31789000.0   5.750809\n",
       "2021-03-18  8.49  8.14  8.31   8.23  35546000.0   5.614372\n",
       "2021-03-19  8.61  8.18  8.28   8.49  29644800.0   5.791740\n",
       "2021-03-22  8.44  8.20  8.34   8.37  23507200.0   5.709878\n",
       "2021-03-23  8.45  8.13  8.26   8.15  30057300.0   5.559797"
      ]
     },
     "execution_count": 9,
     "metadata": {},
     "output_type": "execute_result"
    }
   ],
   "source": [
    "ptbr.head()"
   ]
  },
  {
   "cell_type": "code",
   "execution_count": 10,
   "id": "ceda4d10",
   "metadata": {},
   "outputs": [
    {
     "data": {
      "text/plain": [
       "Date\n",
       "2021-03-17     8.02\n",
       "2021-03-18     8.31\n",
       "2021-03-19     8.28\n",
       "2021-03-22     8.34\n",
       "2021-03-23     8.26\n",
       "              ...  \n",
       "2022-04-11    15.69\n",
       "2022-04-12    15.95\n",
       "2022-04-13    15.84\n",
       "2022-04-14    14.68\n",
       "2022-04-18    14.71\n",
       "Name: Open, Length: 275, dtype: float64"
      ]
     },
     "execution_count": 10,
     "metadata": {},
     "output_type": "execute_result"
    }
   ],
   "source": [
    "ptbr['Open']"
   ]
  },
  {
   "cell_type": "code",
   "execution_count": 11,
   "id": "edd6c533",
   "metadata": {},
   "outputs": [
    {
     "data": {
      "text/plain": [
       "<AxesSubplot:xlabel='Date'>"
      ]
     },
     "execution_count": 11,
     "metadata": {},
     "output_type": "execute_result"
    },
    {
     "data": {
      "image/png": "[encoded data removed]",
      "text/plain": [
       "<Figure size 432x288 with 1 Axes>"
      ]
     },
     "metadata": {},
     "output_type": "display_data"
    }
   ],
   "source": [
    "ptbr.plot()"
   ]
  },
  {
   "cell_type": "code",
   "execution_count": 12,
   "id": "7295d1c2",
   "metadata": {},
   "outputs": [],
   "source": [
    "PTBR_final_prices = pd.DataFrame(ptbr['Close'])"
   ]
  },
  {
   "cell_type": "code",
   "execution_count": 13,
   "id": "1c70eb3a",
   "metadata": {},
   "outputs": [
    {
     "data": {
      "text/html": [
       "<div>\n",
       "<style scoped>\n",
       "    .dataframe tbody tr th:only-of-type {\n",
       "        vertical-align: middle;\n",
       "    }\n",
       "\n",
       "    .dataframe tbody tr th {\n",
       "        vertical-align: top;\n",
       "    }\n",
       "\n",
       "    .dataframe thead th {\n",
       "        text-align: right;\n",
       "    }\n",
       "</style>\n",
       "<table border=\"1\" class=\"dataframe\">\n",
       "  <thead>\n",
       "    <tr style=\"text-align: right;\">\n",
       "      <th></th>\n",
       "      <th>Close</th>\n",
       "    </tr>\n",
       "    <tr>\n",
       "      <th>Date</th>\n",
       "      <th></th>\n",
       "    </tr>\n",
       "  </thead>\n",
       "  <tbody>\n",
       "    <tr>\n",
       "      <th>2021-03-17</th>\n",
       "      <td>8.43</td>\n",
       "    </tr>\n",
       "    <tr>\n",
       "      <th>2021-03-18</th>\n",
       "      <td>8.23</td>\n",
       "    </tr>\n",
       "    <tr>\n",
       "      <th>2021-03-19</th>\n",
       "      <td>8.49</td>\n",
       "    </tr>\n",
       "    <tr>\n",
       "      <th>2021-03-22</th>\n",
       "      <td>8.37</td>\n",
       "    </tr>\n",
       "    <tr>\n",
       "      <th>2021-03-23</th>\n",
       "      <td>8.15</td>\n",
       "    </tr>\n",
       "    <tr>\n",
       "      <th>...</th>\n",
       "      <td>...</td>\n",
       "    </tr>\n",
       "    <tr>\n",
       "      <th>2022-04-11</th>\n",
       "      <td>15.55</td>\n",
       "    </tr>\n",
       "    <tr>\n",
       "      <th>2022-04-12</th>\n",
       "      <td>15.66</td>\n",
       "    </tr>\n",
       "    <tr>\n",
       "      <th>2022-04-13</th>\n",
       "      <td>15.96</td>\n",
       "    </tr>\n",
       "    <tr>\n",
       "      <th>2022-04-14</th>\n",
       "      <td>14.71</td>\n",
       "    </tr>\n",
       "    <tr>\n",
       "      <th>2022-04-18</th>\n",
       "      <td>14.66</td>\n",
       "    </tr>\n",
       "  </tbody>\n",
       "</table>\n",
       "<p>275 rows × 1 columns</p>\n",
       "</div>"
      ],
      "text/plain": [
       "            Close\n",
       "Date             \n",
       "2021-03-17   8.43\n",
       "2021-03-18   8.23\n",
       "2021-03-19   8.49\n",
       "2021-03-22   8.37\n",
       "2021-03-23   8.15\n",
       "...           ...\n",
       "2022-04-11  15.55\n",
       "2022-04-12  15.66\n",
       "2022-04-13  15.96\n",
       "2022-04-14  14.71\n",
       "2022-04-18  14.66\n",
       "\n",
       "[275 rows x 1 columns]"
      ]
     },
     "execution_count": 13,
     "metadata": {},
     "output_type": "execute_result"
    }
   ],
   "source": [
    "PTBR_final_prices"
   ]
  },
  {
   "cell_type": "code",
   "execution_count": 14,
   "id": "31113d19",
   "metadata": {},
   "outputs": [
    {
     "data": {
      "text/html": [
       "<div>\n",
       "<style scoped>\n",
       "    .dataframe tbody tr th:only-of-type {\n",
       "        vertical-align: middle;\n",
       "    }\n",
       "\n",
       "    .dataframe tbody tr th {\n",
       "        vertical-align: top;\n",
       "    }\n",
       "\n",
       "    .dataframe thead th {\n",
       "        text-align: right;\n",
       "    }\n",
       "</style>\n",
       "<table border=\"1\" class=\"dataframe\">\n",
       "  <thead>\n",
       "    <tr style=\"text-align: right;\">\n",
       "      <th></th>\n",
       "      <th>Close</th>\n",
       "    </tr>\n",
       "    <tr>\n",
       "      <th>Date</th>\n",
       "      <th></th>\n",
       "    </tr>\n",
       "  </thead>\n",
       "  <tbody>\n",
       "    <tr>\n",
       "      <th>2021-03-17</th>\n",
       "      <td>False</td>\n",
       "    </tr>\n",
       "    <tr>\n",
       "      <th>2021-03-18</th>\n",
       "      <td>False</td>\n",
       "    </tr>\n",
       "    <tr>\n",
       "      <th>2021-03-19</th>\n",
       "      <td>False</td>\n",
       "    </tr>\n",
       "    <tr>\n",
       "      <th>2021-03-22</th>\n",
       "      <td>False</td>\n",
       "    </tr>\n",
       "    <tr>\n",
       "      <th>2021-03-23</th>\n",
       "      <td>False</td>\n",
       "    </tr>\n",
       "    <tr>\n",
       "      <th>...</th>\n",
       "      <td>...</td>\n",
       "    </tr>\n",
       "    <tr>\n",
       "      <th>2022-04-11</th>\n",
       "      <td>False</td>\n",
       "    </tr>\n",
       "    <tr>\n",
       "      <th>2022-04-12</th>\n",
       "      <td>False</td>\n",
       "    </tr>\n",
       "    <tr>\n",
       "      <th>2022-04-13</th>\n",
       "      <td>False</td>\n",
       "    </tr>\n",
       "    <tr>\n",
       "      <th>2022-04-14</th>\n",
       "      <td>False</td>\n",
       "    </tr>\n",
       "    <tr>\n",
       "      <th>2022-04-18</th>\n",
       "      <td>False</td>\n",
       "    </tr>\n",
       "  </tbody>\n",
       "</table>\n",
       "<p>275 rows × 1 columns</p>\n",
       "</div>"
      ],
      "text/plain": [
       "            Close\n",
       "Date             \n",
       "2021-03-17  False\n",
       "2021-03-18  False\n",
       "2021-03-19  False\n",
       "2021-03-22  False\n",
       "2021-03-23  False\n",
       "...           ...\n",
       "2022-04-11  False\n",
       "2022-04-12  False\n",
       "2022-04-13  False\n",
       "2022-04-14  False\n",
       "2022-04-18  False\n",
       "\n",
       "[275 rows x 1 columns]"
      ]
     },
     "execution_count": 14,
     "metadata": {},
     "output_type": "execute_result"
    }
   ],
   "source": [
    "PTBR_final_prices.isnull()"
   ]
  },
  {
   "cell_type": "code",
   "execution_count": 15,
   "id": "d8f42e4c",
   "metadata": {},
   "outputs": [
    {
     "data": {
      "text/html": [
       "<div>\n",
       "<style scoped>\n",
       "    .dataframe tbody tr th:only-of-type {\n",
       "        vertical-align: middle;\n",
       "    }\n",
       "\n",
       "    .dataframe tbody tr th {\n",
       "        vertical-align: top;\n",
       "    }\n",
       "\n",
       "    .dataframe thead th {\n",
       "        text-align: right;\n",
       "    }\n",
       "</style>\n",
       "<table border=\"1\" class=\"dataframe\">\n",
       "  <thead>\n",
       "    <tr style=\"text-align: right;\">\n",
       "      <th></th>\n",
       "      <th>Close</th>\n",
       "    </tr>\n",
       "    <tr>\n",
       "      <th>Date</th>\n",
       "      <th></th>\n",
       "    </tr>\n",
       "  </thead>\n",
       "  <tbody>\n",
       "    <tr>\n",
       "      <th>2021-03-17</th>\n",
       "      <td>True</td>\n",
       "    </tr>\n",
       "    <tr>\n",
       "      <th>2021-03-18</th>\n",
       "      <td>True</td>\n",
       "    </tr>\n",
       "    <tr>\n",
       "      <th>2021-03-19</th>\n",
       "      <td>True</td>\n",
       "    </tr>\n",
       "    <tr>\n",
       "      <th>2021-03-22</th>\n",
       "      <td>True</td>\n",
       "    </tr>\n",
       "    <tr>\n",
       "      <th>2021-03-23</th>\n",
       "      <td>True</td>\n",
       "    </tr>\n",
       "    <tr>\n",
       "      <th>...</th>\n",
       "      <td>...</td>\n",
       "    </tr>\n",
       "    <tr>\n",
       "      <th>2022-04-11</th>\n",
       "      <td>True</td>\n",
       "    </tr>\n",
       "    <tr>\n",
       "      <th>2022-04-12</th>\n",
       "      <td>True</td>\n",
       "    </tr>\n",
       "    <tr>\n",
       "      <th>2022-04-13</th>\n",
       "      <td>True</td>\n",
       "    </tr>\n",
       "    <tr>\n",
       "      <th>2022-04-14</th>\n",
       "      <td>True</td>\n",
       "    </tr>\n",
       "    <tr>\n",
       "      <th>2022-04-18</th>\n",
       "      <td>True</td>\n",
       "    </tr>\n",
       "  </tbody>\n",
       "</table>\n",
       "<p>275 rows × 1 columns</p>\n",
       "</div>"
      ],
      "text/plain": [
       "            Close\n",
       "Date             \n",
       "2021-03-17   True\n",
       "2021-03-18   True\n",
       "2021-03-19   True\n",
       "2021-03-22   True\n",
       "2021-03-23   True\n",
       "...           ...\n",
       "2022-04-11   True\n",
       "2022-04-12   True\n",
       "2022-04-13   True\n",
       "2022-04-14   True\n",
       "2022-04-18   True\n",
       "\n",
       "[275 rows x 1 columns]"
      ]
     },
     "execution_count": 15,
     "metadata": {},
     "output_type": "execute_result"
    }
   ],
   "source": [
    "PTBR_final_prices.notnull()"
   ]
  },
  {
   "cell_type": "markdown",
   "id": "3578d8a1",
   "metadata": {},
   "source": [
    "# Operações com Datas"
   ]
  },
  {
   "cell_type": "code",
   "execution_count": 16,
   "id": "93f25b7f",
   "metadata": {},
   "outputs": [
    {
     "name": "stderr",
     "output_type": "stream",
     "text": [
      "/tmp/ipykernel_12560/3360880609.py:1: FutureWarning: The pandas.datetime class is deprecated and will be removed from pandas in a future version. Import from datetime module instead.\n",
      "  natal = pd.datetime(2021,12,25)\n"
     ]
    },
    {
     "data": {
      "text/plain": [
       "datetime.datetime(2021, 12, 25, 0, 0)"
      ]
     },
     "execution_count": 16,
     "metadata": {},
     "output_type": "execute_result"
    }
   ],
   "source": [
    "natal = pd.datetime(2021,12,25)\n",
    "natal"
   ]
  },
  {
   "cell_type": "code",
   "execution_count": 17,
   "id": "45f9f20a",
   "metadata": {},
   "outputs": [
    {
     "data": {
      "text/plain": [
       "Timestamp('2021-12-26 00:00:00')"
      ]
     },
     "execution_count": 17,
     "metadata": {},
     "output_type": "execute_result"
    }
   ],
   "source": [
    "boxingDay = natal + pd.DateOffset(days = 1)\n",
    "boxingDay"
   ]
  },
  {
   "cell_type": "code",
   "execution_count": 18,
   "id": "8e651130",
   "metadata": {},
   "outputs": [
    {
     "data": {
      "text/plain": [
       "Timestamp('2022-01-02 00:00:00')"
      ]
     },
     "execution_count": 18,
     "metadata": {},
     "output_type": "execute_result"
    }
   ],
   "source": [
    "boxingDay + pd.DateOffset(weeks = 1)"
   ]
  },
  {
   "cell_type": "code",
   "execution_count": 19,
   "id": "98a08e7f",
   "metadata": {},
   "outputs": [
    {
     "data": {
      "text/plain": [
       "Timestamp('2024-04-26 00:00:00')"
      ]
     },
     "execution_count": 19,
     "metadata": {},
     "output_type": "execute_result"
    }
   ],
   "source": [
    "boxingDay + 2 * pd.DateOffset(years = 1, months = 2)"
   ]
  },
  {
   "cell_type": "code",
   "execution_count": 20,
   "id": "8e7a2378",
   "metadata": {},
   "outputs": [
    {
     "name": "stderr",
     "output_type": "stream",
     "text": [
      "/tmp/ipykernel_12560/3324714116.py:1: FutureWarning: The pandas.datetime class is deprecated and will be removed from pandas in a future version. Import from datetime module instead.\n",
      "  lastDay = pd.datetime(2022, 4, 18)\n"
     ]
    }
   ],
   "source": [
    "lastDay = pd.datetime(2022, 4, 18)"
   ]
  },
  {
   "cell_type": "code",
   "execution_count": 21,
   "id": "1296ae63",
   "metadata": {},
   "outputs": [],
   "source": [
    "from pandas.tseries.offsets import QuarterBegin"
   ]
  },
  {
   "cell_type": "code",
   "execution_count": 25,
   "id": "7bfc15a1",
   "metadata": {},
   "outputs": [
    {
     "data": {
      "text/plain": [
       "Timestamp('2022-06-01 00:00:00')"
      ]
     },
     "execution_count": 25,
     "metadata": {},
     "output_type": "execute_result"
    }
   ],
   "source": [
    "dtoffset = QuarterBegin()\n",
    "lastDay + dtoffset"
   ]
  },
  {
   "cell_type": "code",
   "execution_count": 23,
   "id": "be5fbfd8",
   "metadata": {},
   "outputs": [
    {
     "name": "stderr",
     "output_type": "stream",
     "text": [
      "/tmp/ipykernel_12560/2790678682.py:1: FutureWarning: The pandas.datetime class is deprecated and will be removed from pandas in a future version. Import from datetime module instead.\n",
      "  firstQuarterLastDay = pd.datetime(2021, 3, 31)\n"
     ]
    }
   ],
   "source": [
    "firstQuarterLastDay = pd.datetime(2021, 3, 31)"
   ]
  },
  {
   "cell_type": "code",
   "execution_count": 27,
   "id": "7cf6601b",
   "metadata": {},
   "outputs": [
    {
     "data": {
      "text/plain": [
       "Timestamp('2021-06-01 00:00:00')"
      ]
     },
     "execution_count": 27,
     "metadata": {},
     "output_type": "execute_result"
    }
   ],
   "source": [
    "dtoffset.rollforward(firstQuarterLastDay)"
   ]
  },
  {
   "cell_type": "code",
   "execution_count": 28,
   "id": "c51451f4",
   "metadata": {},
   "outputs": [
    {
     "name": "stderr",
     "output_type": "stream",
     "text": [
      "/tmp/ipykernel_12560/2268959946.py:1: FutureWarning: The pandas.datetime class is deprecated and will be removed from pandas in a future version. Import from datetime module instead.\n",
      "  today = pd.datetime.now()\n"
     ]
    }
   ],
   "source": [
    "today = pd.datetime.now()"
   ]
  },
  {
   "cell_type": "markdown",
   "id": "b84cf3d3",
   "metadata": {},
   "source": [
    "### 1 semana a partir de hoje"
   ]
  },
  {
   "cell_type": "code",
   "execution_count": 29,
   "id": "761069ef",
   "metadata": {},
   "outputs": [
    {
     "data": {
      "text/plain": [
       "Timestamp('2022-07-18 18:50:07.475746')"
      ]
     },
     "execution_count": 29,
     "metadata": {},
     "output_type": "execute_result"
    }
   ],
   "source": [
    "today + pd.DateOffset(weeks = 1)"
   ]
  },
  {
   "cell_type": "markdown",
   "id": "5d540158",
   "metadata": {},
   "source": [
    "### 5 anos a partir de hoje"
   ]
  },
  {
   "cell_type": "code",
   "execution_count": 30,
   "id": "d3ecfacf",
   "metadata": {},
   "outputs": [
    {
     "data": {
      "text/plain": [
       "Timestamp('2027-07-11 18:50:07.475746')"
      ]
     },
     "execution_count": 30,
     "metadata": {},
     "output_type": "execute_result"
    }
   ],
   "source": [
    "today + 2 * pd.DateOffset(years = 2, months = 6)"
   ]
  },
  {
   "cell_type": "markdown",
   "id": "48ced4b8",
   "metadata": {},
   "source": [
    "## Conversão entre tipos de dados para Séries Temporais"
   ]
  },
  {
   "cell_type": "code",
   "execution_count": 31,
   "id": "19fa4330",
   "metadata": {},
   "outputs": [
    {
     "data": {
      "text/plain": [
       "Timestamp('2015-07-13 00:00:00')"
      ]
     },
     "execution_count": 31,
     "metadata": {},
     "output_type": "execute_result"
    }
   ],
   "source": [
    "worldCupFinal = pd.to_datetime('07/13/2015')\n",
    "worldCupFinal"
   ]
  },
  {
   "cell_type": "code",
   "execution_count": 32,
   "id": "97f51c04",
   "metadata": {},
   "outputs": [
    {
     "data": {
      "text/plain": [
       "Period('2015-07-13', 'D')"
      ]
     },
     "execution_count": 32,
     "metadata": {},
     "output_type": "execute_result"
    }
   ],
   "source": [
    "worldCupFinal.to_period('D')"
   ]
  },
  {
   "cell_type": "code",
   "execution_count": 33,
   "id": "2dd9a19e",
   "metadata": {},
   "outputs": [
    {
     "data": {
      "text/plain": [
       "Period('2015-06-12', 'D')"
      ]
     },
     "execution_count": 33,
     "metadata": {},
     "output_type": "execute_result"
    }
   ],
   "source": [
    "worldCupKickoff=pd.Period('06/12/2015','D')\n",
    "worldCupKickoff"
   ]
  },
  {
   "cell_type": "code",
   "execution_count": 34,
   "id": "4990f554",
   "metadata": {},
   "outputs": [
    {
     "data": {
      "text/plain": [
       "Timestamp('2015-06-12 00:00:00')"
      ]
     },
     "execution_count": 34,
     "metadata": {},
     "output_type": "execute_result"
    }
   ],
   "source": [
    "worldCupKickoff.to_timestamp()"
   ]
  },
  {
   "cell_type": "code",
   "execution_count": 35,
   "id": "5b36419b",
   "metadata": {},
   "outputs": [
    {
     "data": {
      "text/plain": [
       "DatetimeIndex(['2014-06-12', '2014-06-13', '2014-06-14', '2014-06-15',\n",
       "               '2014-06-16', '2014-06-17', '2014-06-18', '2014-06-19',\n",
       "               '2014-06-20', '2014-06-21', '2014-06-22', '2014-06-23',\n",
       "               '2014-06-24', '2014-06-25', '2014-06-26', '2014-06-27',\n",
       "               '2014-06-28', '2014-06-29', '2014-06-30', '2014-07-01',\n",
       "               '2014-07-02', '2014-07-03', '2014-07-04', '2014-07-05',\n",
       "               '2014-07-06', '2014-07-07', '2014-07-08', '2014-07-09',\n",
       "               '2014-07-10', '2014-07-11', '2014-07-12', '2014-07-13'],\n",
       "              dtype='datetime64[ns]', freq='D')"
      ]
     },
     "execution_count": 35,
     "metadata": {},
     "output_type": "execute_result"
    }
   ],
   "source": [
    "worldCupDays=pd.date_range('06/12/2014', periods = 32, freq = 'D')\n",
    "worldCupDays"
   ]
  },
  {
   "cell_type": "code",
   "execution_count": 36,
   "id": "095cbf74",
   "metadata": {},
   "outputs": [
    {
     "data": {
      "text/plain": [
       "PeriodIndex(['2014-06-12', '2014-06-13', '2014-06-14', '2014-06-15',\n",
       "             '2014-06-16', '2014-06-17', '2014-06-18', '2014-06-19',\n",
       "             '2014-06-20', '2014-06-21', '2014-06-22', '2014-06-23',\n",
       "             '2014-06-24', '2014-06-25', '2014-06-26', '2014-06-27',\n",
       "             '2014-06-28', '2014-06-29', '2014-06-30', '2014-07-01',\n",
       "             '2014-07-02', '2014-07-03', '2014-07-04', '2014-07-05',\n",
       "             '2014-07-06', '2014-07-07', '2014-07-08', '2014-07-09',\n",
       "             '2014-07-10', '2014-07-11', '2014-07-12', '2014-07-13'],\n",
       "            dtype='period[D]')"
      ]
     },
     "execution_count": 36,
     "metadata": {},
     "output_type": "execute_result"
    }
   ],
   "source": [
    "worldCupDays.to_period()"
   ]
  },
  {
   "cell_type": "markdown",
   "id": "6db03acc",
   "metadata": {},
   "source": [
    "## Plot com Matplotlib"
   ]
  },
  {
   "cell_type": "code",
   "execution_count": 37,
   "id": "b59d7f36",
   "metadata": {},
   "outputs": [],
   "source": [
    "import numpy as np"
   ]
  },
  {
   "cell_type": "code",
   "execution_count": 38,
   "id": "a43d8603",
   "metadata": {},
   "outputs": [
    {
     "data": {
      "text/html": [
       "<div>\n",
       "<style scoped>\n",
       "    .dataframe tbody tr th:only-of-type {\n",
       "        vertical-align: middle;\n",
       "    }\n",
       "\n",
       "    .dataframe tbody tr th {\n",
       "        vertical-align: top;\n",
       "    }\n",
       "\n",
       "    .dataframe thead th {\n",
       "        text-align: right;\n",
       "    }\n",
       "</style>\n",
       "<table border=\"1\" class=\"dataframe\">\n",
       "  <thead>\n",
       "    <tr style=\"text-align: right;\">\n",
       "      <th></th>\n",
       "      <th>sin(x)+cos(x)</th>\n",
       "      <th>sin(x)-cos(x)</th>\n",
       "    </tr>\n",
       "  </thead>\n",
       "  <tbody>\n",
       "    <tr>\n",
       "      <th>-3.141593</th>\n",
       "      <td>-1.000000</td>\n",
       "      <td>1.000000</td>\n",
       "    </tr>\n",
       "    <tr>\n",
       "      <th>-3.116953</th>\n",
       "      <td>-1.024334</td>\n",
       "      <td>0.975059</td>\n",
       "    </tr>\n",
       "    <tr>\n",
       "      <th>-3.092313</th>\n",
       "      <td>-1.048046</td>\n",
       "      <td>0.949526</td>\n",
       "    </tr>\n",
       "    <tr>\n",
       "      <th>-3.067673</th>\n",
       "      <td>-1.071122</td>\n",
       "      <td>0.923417</td>\n",
       "    </tr>\n",
       "    <tr>\n",
       "      <th>-3.043033</th>\n",
       "      <td>-1.093547</td>\n",
       "      <td>0.896747</td>\n",
       "    </tr>\n",
       "  </tbody>\n",
       "</table>\n",
       "</div>"
      ],
      "text/plain": [
       "           sin(x)+cos(x)  sin(x)-cos(x)\n",
       "-3.141593      -1.000000       1.000000\n",
       "-3.116953      -1.024334       0.975059\n",
       "-3.092313      -1.048046       0.949526\n",
       "-3.067673      -1.071122       0.923417\n",
       "-3.043033      -1.093547       0.896747"
      ]
     },
     "execution_count": 38,
     "metadata": {},
     "output_type": "execute_result"
    }
   ],
   "source": [
    "X = np.linspace(-np.pi, np.pi, 256, endpoint = True)\n",
    "f,g = np.cos(X) + np.sin(X), np.sin(X) - np.cos(X)\n",
    "f_serie = pd.Series(f)\n",
    "g_serie = pd.Series(g)\n",
    "plotDF = pd.concat([f_serie, g_serie], axis = 1)\n",
    "plotDF.index = X\n",
    "plotDF.columns = ['sin(x)+cos(x)','sin(x)-cos(x)']\n",
    "plotDF.head()\n"
   ]
  },
  {
   "cell_type": "code",
   "execution_count": 39,
   "id": "357352e2",
   "metadata": {},
   "outputs": [
    {
     "data": {
      "image/png": "[encoded data removed]",
      "text/plain": [
       "<Figure size 432x288 with 1 Axes>"
      ]
     },
     "metadata": {},
     "output_type": "display_data"
    }
   ],
   "source": [
    "plotDF.plot()\n",
    "plt.show()"
   ]
  },
  {
   "cell_type": "code",
   "execution_count": 40,
   "id": "62b4ca9e",
   "metadata": {},
   "outputs": [
    {
     "data": {
      "image/png": "[encoded data removed]",
      "text/plain": [
       "<Figure size 432x288 with 1 Axes>"
      ]
     },
     "metadata": {},
     "output_type": "display_data"
    }
   ],
   "source": [
    "plotDF.columns = ['f(x)','g(x)']\n",
    "plotDF.plot(title = 'Plot de f(x)=sin(x)+cos(x), \\n         g(x)=sinx(x)-cos(x)')\n",
    "plt.show()"
   ]
  },
  {
   "cell_type": "code",
   "execution_count": 41,
   "id": "63b36b67",
   "metadata": {},
   "outputs": [
    {
     "data": {
      "image/png": "[encoded data removed]",
      "text/plain": [
       "<Figure size 432x432 with 2 Axes>"
      ]
     },
     "metadata": {},
     "output_type": "display_data"
    }
   ],
   "source": [
    "# Subplots\n",
    "plotDF.plot(subplots = True, figsize = (6,6))\n",
    "plt.show()"
   ]
  }
 ],
 "metadata": {
  "kernelspec": {
   "display_name": "Python 3.10.4 64-bit",
   "language": "python",
   "name": "python3"
  },
  "language_info": {
   "codemirror_mode": {
    "name": "ipython",
    "version": 3
   },
   "file_extension": ".py",
   "mimetype": "text/x-python",
   "name": "python",
   "nbconvert_exporter": "python",
   "pygments_lexer": "ipython3",
   "version": "3.10.4"
  },
  "vscode": {
   "interpreter": {
    "hash": "916dbcbb3f70747c44a77c7bcd40155683ae19c65e1c03b4aa3499c5328201f1"
   }
  }
 },
 "nbformat": 4,
 "nbformat_minor": 5
}
